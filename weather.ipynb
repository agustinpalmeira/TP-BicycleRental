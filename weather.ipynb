{
 "cells": [
  {
   "cell_type": "markdown",
   "metadata": {},
   "source": [
    "# WEATHER ANALYSIS"
   ]
  },
  {
   "cell_type": "code",
   "execution_count": 593,
   "metadata": {
    "collapsed": true
   },
   "outputs": [],
   "source": [
    "%matplotlib inline\n",
    "\n",
    "import datetime as datetime\n",
    "import pandas as pd\n",
    "import numpy as np\n",
    "import matplotlib.pyplot as plt\n",
    "\n",
    "plt.style.use('ggplot') #default can be used too\n",
    "plt.rcParams['figure.figsize'] = (17, 8)"
   ]
  },
  {
   "cell_type": "code",
   "execution_count": 594,
   "metadata": {
    "collapsed": true
   },
   "outputs": [],
   "source": [
    "weather = pd.read_csv('weather.csv', low_memory=False)"
   ]
  },
  {
   "cell_type": "code",
   "execution_count": 595,
   "metadata": {
    "collapsed": false
   },
   "outputs": [
    {
     "data": {
      "text/html": [
       "<div>\n",
       "<table border=\"1\" class=\"dataframe\">\n",
       "  <thead>\n",
       "    <tr style=\"text-align: right;\">\n",
       "      <th></th>\n",
       "      <th>date</th>\n",
       "      <th>max_temperature_f</th>\n",
       "      <th>mean_temperature_f</th>\n",
       "      <th>min_temperature_f</th>\n",
       "      <th>max_dew_point_f</th>\n",
       "      <th>mean_dew_point_f</th>\n",
       "      <th>min_dew_point_f</th>\n",
       "      <th>max_humidity</th>\n",
       "      <th>mean_humidity</th>\n",
       "      <th>min_humidity</th>\n",
       "      <th>...</th>\n",
       "      <th>mean_visibility_miles</th>\n",
       "      <th>min_visibility_miles</th>\n",
       "      <th>max_wind_Speed_mph</th>\n",
       "      <th>mean_wind_speed_mph</th>\n",
       "      <th>max_gust_speed_mph</th>\n",
       "      <th>precipitation_inches</th>\n",
       "      <th>cloud_cover</th>\n",
       "      <th>events</th>\n",
       "      <th>wind_dir_degrees</th>\n",
       "      <th>zip_code</th>\n",
       "    </tr>\n",
       "  </thead>\n",
       "  <tbody>\n",
       "    <tr>\n",
       "      <th>0</th>\n",
       "      <td>8/29/2013</td>\n",
       "      <td>74.0</td>\n",
       "      <td>68.0</td>\n",
       "      <td>61.0</td>\n",
       "      <td>61.0</td>\n",
       "      <td>58.0</td>\n",
       "      <td>56.0</td>\n",
       "      <td>93.0</td>\n",
       "      <td>75.0</td>\n",
       "      <td>57.0</td>\n",
       "      <td>...</td>\n",
       "      <td>10.0</td>\n",
       "      <td>10.0</td>\n",
       "      <td>23.0</td>\n",
       "      <td>11.0</td>\n",
       "      <td>28.0</td>\n",
       "      <td>0</td>\n",
       "      <td>4.0</td>\n",
       "      <td>NaN</td>\n",
       "      <td>286.0</td>\n",
       "      <td>94107</td>\n",
       "    </tr>\n",
       "    <tr>\n",
       "      <th>1</th>\n",
       "      <td>8/30/2013</td>\n",
       "      <td>78.0</td>\n",
       "      <td>69.0</td>\n",
       "      <td>60.0</td>\n",
       "      <td>61.0</td>\n",
       "      <td>58.0</td>\n",
       "      <td>56.0</td>\n",
       "      <td>90.0</td>\n",
       "      <td>70.0</td>\n",
       "      <td>50.0</td>\n",
       "      <td>...</td>\n",
       "      <td>10.0</td>\n",
       "      <td>7.0</td>\n",
       "      <td>29.0</td>\n",
       "      <td>13.0</td>\n",
       "      <td>35.0</td>\n",
       "      <td>0</td>\n",
       "      <td>2.0</td>\n",
       "      <td>NaN</td>\n",
       "      <td>291.0</td>\n",
       "      <td>94107</td>\n",
       "    </tr>\n",
       "    <tr>\n",
       "      <th>2</th>\n",
       "      <td>8/31/2013</td>\n",
       "      <td>71.0</td>\n",
       "      <td>64.0</td>\n",
       "      <td>57.0</td>\n",
       "      <td>57.0</td>\n",
       "      <td>56.0</td>\n",
       "      <td>54.0</td>\n",
       "      <td>93.0</td>\n",
       "      <td>75.0</td>\n",
       "      <td>57.0</td>\n",
       "      <td>...</td>\n",
       "      <td>10.0</td>\n",
       "      <td>10.0</td>\n",
       "      <td>26.0</td>\n",
       "      <td>15.0</td>\n",
       "      <td>31.0</td>\n",
       "      <td>0</td>\n",
       "      <td>4.0</td>\n",
       "      <td>NaN</td>\n",
       "      <td>284.0</td>\n",
       "      <td>94107</td>\n",
       "    </tr>\n",
       "    <tr>\n",
       "      <th>3</th>\n",
       "      <td>9/1/2013</td>\n",
       "      <td>74.0</td>\n",
       "      <td>66.0</td>\n",
       "      <td>58.0</td>\n",
       "      <td>60.0</td>\n",
       "      <td>56.0</td>\n",
       "      <td>53.0</td>\n",
       "      <td>87.0</td>\n",
       "      <td>68.0</td>\n",
       "      <td>49.0</td>\n",
       "      <td>...</td>\n",
       "      <td>10.0</td>\n",
       "      <td>10.0</td>\n",
       "      <td>25.0</td>\n",
       "      <td>13.0</td>\n",
       "      <td>29.0</td>\n",
       "      <td>0</td>\n",
       "      <td>4.0</td>\n",
       "      <td>NaN</td>\n",
       "      <td>284.0</td>\n",
       "      <td>94107</td>\n",
       "    </tr>\n",
       "    <tr>\n",
       "      <th>4</th>\n",
       "      <td>9/2/2013</td>\n",
       "      <td>75.0</td>\n",
       "      <td>69.0</td>\n",
       "      <td>62.0</td>\n",
       "      <td>61.0</td>\n",
       "      <td>60.0</td>\n",
       "      <td>58.0</td>\n",
       "      <td>93.0</td>\n",
       "      <td>77.0</td>\n",
       "      <td>61.0</td>\n",
       "      <td>...</td>\n",
       "      <td>10.0</td>\n",
       "      <td>6.0</td>\n",
       "      <td>23.0</td>\n",
       "      <td>12.0</td>\n",
       "      <td>30.0</td>\n",
       "      <td>0</td>\n",
       "      <td>6.0</td>\n",
       "      <td>NaN</td>\n",
       "      <td>277.0</td>\n",
       "      <td>94107</td>\n",
       "    </tr>\n",
       "  </tbody>\n",
       "</table>\n",
       "<p>5 rows × 24 columns</p>\n",
       "</div>"
      ],
      "text/plain": [
       "        date  max_temperature_f  mean_temperature_f  min_temperature_f  \\\n",
       "0  8/29/2013               74.0                68.0               61.0   \n",
       "1  8/30/2013               78.0                69.0               60.0   \n",
       "2  8/31/2013               71.0                64.0               57.0   \n",
       "3   9/1/2013               74.0                66.0               58.0   \n",
       "4   9/2/2013               75.0                69.0               62.0   \n",
       "\n",
       "   max_dew_point_f  mean_dew_point_f  min_dew_point_f  max_humidity  \\\n",
       "0             61.0              58.0             56.0          93.0   \n",
       "1             61.0              58.0             56.0          90.0   \n",
       "2             57.0              56.0             54.0          93.0   \n",
       "3             60.0              56.0             53.0          87.0   \n",
       "4             61.0              60.0             58.0          93.0   \n",
       "\n",
       "   mean_humidity  min_humidity   ...     mean_visibility_miles  \\\n",
       "0           75.0          57.0   ...                      10.0   \n",
       "1           70.0          50.0   ...                      10.0   \n",
       "2           75.0          57.0   ...                      10.0   \n",
       "3           68.0          49.0   ...                      10.0   \n",
       "4           77.0          61.0   ...                      10.0   \n",
       "\n",
       "   min_visibility_miles  max_wind_Speed_mph  mean_wind_speed_mph  \\\n",
       "0                  10.0                23.0                 11.0   \n",
       "1                   7.0                29.0                 13.0   \n",
       "2                  10.0                26.0                 15.0   \n",
       "3                  10.0                25.0                 13.0   \n",
       "4                   6.0                23.0                 12.0   \n",
       "\n",
       "   max_gust_speed_mph  precipitation_inches  cloud_cover  events  \\\n",
       "0                28.0                     0          4.0     NaN   \n",
       "1                35.0                     0          2.0     NaN   \n",
       "2                31.0                     0          4.0     NaN   \n",
       "3                29.0                     0          4.0     NaN   \n",
       "4                30.0                     0          6.0     NaN   \n",
       "\n",
       "   wind_dir_degrees zip_code  \n",
       "0             286.0    94107  \n",
       "1             291.0    94107  \n",
       "2             284.0    94107  \n",
       "3             284.0    94107  \n",
       "4             277.0    94107  \n",
       "\n",
       "[5 rows x 24 columns]"
      ]
     },
     "execution_count": 595,
     "metadata": {},
     "output_type": "execute_result"
    }
   ],
   "source": [
    "weather.head()"
   ]
  },
  {
   "cell_type": "code",
   "execution_count": 596,
   "metadata": {
    "collapsed": false
   },
   "outputs": [
    {
     "name": "stdout",
     "output_type": "stream",
     "text": [
      "(3665, 24)\n"
     ]
    }
   ],
   "source": [
    "print(weather.shape)"
   ]
  },
  {
   "cell_type": "code",
   "execution_count": 597,
   "metadata": {
    "collapsed": false
   },
   "outputs": [
    {
     "name": "stdout",
     "output_type": "stream",
     "text": [
      "['date' 'max_temperature_f' 'mean_temperature_f' 'min_temperature_f'\n",
      " 'max_dew_point_f' 'mean_dew_point_f' 'min_dew_point_f' 'max_humidity'\n",
      " 'mean_humidity' 'min_humidity' 'max_sea_level_pressure_inches'\n",
      " 'mean_sea_level_pressure_inches' 'min_sea_level_pressure_inches'\n",
      " 'max_visibility_miles' 'mean_visibility_miles' 'min_visibility_miles'\n",
      " 'max_wind_Speed_mph' 'mean_wind_speed_mph' 'max_gust_speed_mph'\n",
      " 'precipitation_inches' 'cloud_cover' 'events' 'wind_dir_degrees'\n",
      " 'zip_code']\n"
     ]
    }
   ],
   "source": [
    "print(weather.columns.values)"
   ]
  },
  {
   "cell_type": "code",
   "execution_count": 598,
   "metadata": {
    "collapsed": false
   },
   "outputs": [
    {
     "name": "stdout",
     "output_type": "stream",
     "text": [
      "       max_temperature_f  mean_temperature_f  min_temperature_f  \\\n",
      "count        3661.000000         3661.000000        3661.000000   \n",
      "mean           70.580989           61.348812          51.947282   \n",
      "std             8.385572            7.234397           7.441444   \n",
      "min            44.000000           38.000000          25.000000   \n",
      "25%            64.000000           56.000000          47.000000   \n",
      "50%            70.000000           61.000000          53.000000   \n",
      "75%            77.000000           67.000000          58.000000   \n",
      "max           102.000000           84.000000          75.000000   \n",
      "\n",
      "       max_dew_point_f  mean_dew_point_f  min_dew_point_f  max_humidity  \\\n",
      "count      3611.000000       3611.000000      3611.000000   3611.000000   \n",
      "mean         53.149820         48.794794        44.306840     85.446968   \n",
      "std           6.885449          7.822281         9.355432      9.226972   \n",
      "min          20.000000         13.000000         2.000000     24.000000   \n",
      "25%          49.000000         44.000000        39.000000     82.000000   \n",
      "50%          54.000000         49.000000        46.000000     86.000000   \n",
      "75%          58.000000         55.000000        52.000000     93.000000   \n",
      "max          68.000000         65.000000        63.000000    100.000000   \n",
      "\n",
      "       mean_humidity  min_humidity  max_sea_level_pressure_inches  \\\n",
      "count    3611.000000   3611.000000                    3664.000000   \n",
      "mean       67.256993     46.458045                      30.074997   \n",
      "std        10.945591     14.434784                       0.134492   \n",
      "min        24.000000      4.000000                      29.500000   \n",
      "25%        62.000000     37.000000                      29.980000   \n",
      "50%        68.000000     48.000000                      30.060000   \n",
      "75%        74.000000     56.000000                      30.170000   \n",
      "max        96.000000     93.000000                      30.650000   \n",
      "\n",
      "           ...       min_sea_level_pressure_inches  max_visibility_miles  \\\n",
      "count      ...                         3664.000000           3652.000000   \n",
      "mean       ...                           29.965835             10.555312   \n",
      "std        ...                            0.133476              2.193828   \n",
      "min        ...                           28.980000              5.000000   \n",
      "25%        ...                           29.880000             10.000000   \n",
      "50%        ...                           29.950000             10.000000   \n",
      "75%        ...                           30.050000             10.000000   \n",
      "max        ...                           30.370000             20.000000   \n",
      "\n",
      "       mean_visibility_miles  min_visibility_miles  max_wind_Speed_mph  \\\n",
      "count            3652.000000           3652.000000         3664.000000   \n",
      "mean                9.822015              8.229737           16.398472   \n",
      "std                 1.469894              2.862132            7.787588   \n",
      "min                 4.000000              0.000000            0.000000   \n",
      "25%                10.000000              7.000000           13.000000   \n",
      "50%                10.000000             10.000000           16.000000   \n",
      "75%                10.000000             10.000000           20.000000   \n",
      "max                20.000000             20.000000          128.000000   \n",
      "\n",
      "       mean_wind_speed_mph  max_gust_speed_mph  cloud_cover  wind_dir_degrees  \\\n",
      "count          3664.000000         2766.000000  3664.000000       3664.000000   \n",
      "mean              5.962063           22.299349     2.784389        266.605895   \n",
      "std               3.340603            9.618813     2.276401        102.047645   \n",
      "min               0.000000            6.000000     0.000000          0.000000   \n",
      "25%               3.000000           17.000000     1.000000        254.000000   \n",
      "50%               6.000000           22.000000     3.000000        297.000000   \n",
      "75%               8.000000           25.000000     5.000000        330.000000   \n",
      "max              23.000000          114.000000     8.000000       2772.000000   \n",
      "\n",
      "           zip_code  \n",
      "count   3665.000000  \n",
      "mean   94325.000000  \n",
      "std      404.615212  \n",
      "min    94041.000000  \n",
      "25%    94063.000000  \n",
      "50%    94107.000000  \n",
      "75%    94301.000000  \n",
      "max    95113.000000  \n",
      "\n",
      "[8 rows x 21 columns]\n"
     ]
    }
   ],
   "source": [
    "print(weather.describe())"
   ]
  },
  {
   "cell_type": "code",
   "execution_count": 599,
   "metadata": {
    "collapsed": false
   },
   "outputs": [
    {
     "name": "stdout",
     "output_type": "stream",
     "text": [
      "date                              False\n",
      "max_temperature_f                  True\n",
      "mean_temperature_f                 True\n",
      "min_temperature_f                  True\n",
      "max_dew_point_f                    True\n",
      "mean_dew_point_f                   True\n",
      "min_dew_point_f                    True\n",
      "max_humidity                       True\n",
      "mean_humidity                      True\n",
      "min_humidity                       True\n",
      "max_sea_level_pressure_inches      True\n",
      "mean_sea_level_pressure_inches     True\n",
      "min_sea_level_pressure_inches      True\n",
      "max_visibility_miles               True\n",
      "mean_visibility_miles              True\n",
      "min_visibility_miles               True\n",
      "max_wind_Speed_mph                 True\n",
      "mean_wind_speed_mph                True\n",
      "max_gust_speed_mph                 True\n",
      "precipitation_inches               True\n",
      "cloud_cover                        True\n",
      "events                             True\n",
      "wind_dir_degrees                   True\n",
      "zip_code                          False\n",
      "dtype: bool\n"
     ]
    }
   ],
   "source": [
    "print(weather.isnull().any())"
   ]
  },
  {
   "cell_type": "markdown",
   "metadata": {},
   "source": [
    "# Dates with more temperature:"
   ]
  },
  {
   "cell_type": "code",
   "execution_count": 600,
   "metadata": {
    "collapsed": false
   },
   "outputs": [
    {
     "name": "stdout",
     "output_type": "stream",
     "text": [
      "El valor máximo de temperatura es:\n",
      "102.0\n"
     ]
    }
   ],
   "source": [
    "print('El valor máximo de temperatura es:')\n",
    "print(weather['max_temperature_f'].max())"
   ]
  },
  {
   "cell_type": "code",
   "execution_count": 601,
   "metadata": {
    "collapsed": false
   },
   "outputs": [
    {
     "data": {
      "text/html": [
       "<div>\n",
       "<table border=\"1\" class=\"dataframe\">\n",
       "  <thead>\n",
       "    <tr style=\"text-align: right;\">\n",
       "      <th></th>\n",
       "      <th>max_temperature_f</th>\n",
       "      <th>date</th>\n",
       "    </tr>\n",
       "  </thead>\n",
       "  <tbody>\n",
       "    <tr>\n",
       "      <th>50</th>\n",
       "      <td>95.0</td>\n",
       "      <td>9/7/2013</td>\n",
       "    </tr>\n",
       "    <tr>\n",
       "      <th>51</th>\n",
       "      <td>97.0</td>\n",
       "      <td>8/16/2015</td>\n",
       "    </tr>\n",
       "    <tr>\n",
       "      <th>52</th>\n",
       "      <td>98.0</td>\n",
       "      <td>8/16/2015</td>\n",
       "    </tr>\n",
       "    <tr>\n",
       "      <th>53</th>\n",
       "      <td>99.0</td>\n",
       "      <td>4/30/2015</td>\n",
       "    </tr>\n",
       "    <tr>\n",
       "      <th>54</th>\n",
       "      <td>102.0</td>\n",
       "      <td>7/27/2015</td>\n",
       "    </tr>\n",
       "  </tbody>\n",
       "</table>\n",
       "</div>"
      ],
      "text/plain": [
       "    max_temperature_f       date\n",
       "50               95.0   9/7/2013\n",
       "51               97.0  8/16/2015\n",
       "52               98.0  8/16/2015\n",
       "53               99.0  4/30/2015\n",
       "54              102.0  7/27/2015"
      ]
     },
     "execution_count": 601,
     "metadata": {},
     "output_type": "execute_result"
    }
   ],
   "source": [
    "max_temp_weather = weather.groupby(['max_temperature_f'], sort=True)['date'].max()\n",
    "max_temp_weather = max_temp_weather.reset_index()\n",
    "max_temp_weather.tail()"
   ]
  },
  {
   "cell_type": "code",
   "execution_count": 602,
   "metadata": {
    "collapsed": false
   },
   "outputs": [
    {
     "data": {
      "text/html": [
       "<div>\n",
       "<table border=\"1\" class=\"dataframe\">\n",
       "  <thead>\n",
       "    <tr style=\"text-align: right;\">\n",
       "      <th></th>\n",
       "      <th>max_temperature_f</th>\n",
       "      <th>date</th>\n",
       "    </tr>\n",
       "    <tr>\n",
       "      <th>date</th>\n",
       "      <th></th>\n",
       "      <th></th>\n",
       "    </tr>\n",
       "  </thead>\n",
       "  <tbody>\n",
       "    <tr>\n",
       "      <th>9/7/2013</th>\n",
       "      <td>95.0</td>\n",
       "      <td>9/7/2013</td>\n",
       "    </tr>\n",
       "    <tr>\n",
       "      <th>8/16/2015</th>\n",
       "      <td>97.0</td>\n",
       "      <td>8/16/2015</td>\n",
       "    </tr>\n",
       "    <tr>\n",
       "      <th>8/16/2015</th>\n",
       "      <td>98.0</td>\n",
       "      <td>8/16/2015</td>\n",
       "    </tr>\n",
       "    <tr>\n",
       "      <th>4/30/2015</th>\n",
       "      <td>99.0</td>\n",
       "      <td>4/30/2015</td>\n",
       "    </tr>\n",
       "    <tr>\n",
       "      <th>7/27/2015</th>\n",
       "      <td>102.0</td>\n",
       "      <td>7/27/2015</td>\n",
       "    </tr>\n",
       "  </tbody>\n",
       "</table>\n",
       "</div>"
      ],
      "text/plain": [
       "           max_temperature_f       date\n",
       "date                                   \n",
       "9/7/2013                95.0   9/7/2013\n",
       "8/16/2015               97.0  8/16/2015\n",
       "8/16/2015               98.0  8/16/2015\n",
       "4/30/2015               99.0  4/30/2015\n",
       "7/27/2015              102.0  7/27/2015"
      ]
     },
     "execution_count": 602,
     "metadata": {},
     "output_type": "execute_result"
    }
   ],
   "source": [
    "indexed_max_temp_weather = max_temp_weather.set_index(max_temp_weather['date'])\n",
    "indexed_max_temp_weather.tail()"
   ]
  },
  {
   "cell_type": "code",
   "execution_count": 603,
   "metadata": {
    "collapsed": true
   },
   "outputs": [],
   "source": [
    "indexed_max_temp_weather_last5 = indexed_max_temp_weather.tail(5)"
   ]
  },
  {
   "cell_type": "code",
   "execution_count": 604,
   "metadata": {
    "collapsed": false
   },
   "outputs": [
    {
     "name": "stderr",
     "output_type": "stream",
     "text": [
      "/Library/Frameworks/Python.framework/Versions/2.7/lib/python2.7/site-packages/ipykernel/__main__.py:1: FutureWarning: sort(columns=....) is deprecated, use sort_values(by=.....)\n",
      "  if __name__ == '__main__':\n"
     ]
    },
    {
     "data": {
      "text/html": [
       "<div>\n",
       "<table border=\"1\" class=\"dataframe\">\n",
       "  <thead>\n",
       "    <tr style=\"text-align: right;\">\n",
       "      <th></th>\n",
       "      <th>date</th>\n",
       "      <th>max_temperature_f</th>\n",
       "      <th>mean_temperature_f</th>\n",
       "      <th>min_temperature_f</th>\n",
       "      <th>max_dew_point_f</th>\n",
       "      <th>mean_dew_point_f</th>\n",
       "      <th>min_dew_point_f</th>\n",
       "      <th>max_humidity</th>\n",
       "      <th>mean_humidity</th>\n",
       "      <th>min_humidity</th>\n",
       "      <th>...</th>\n",
       "      <th>mean_visibility_miles</th>\n",
       "      <th>min_visibility_miles</th>\n",
       "      <th>max_wind_Speed_mph</th>\n",
       "      <th>mean_wind_speed_mph</th>\n",
       "      <th>max_gust_speed_mph</th>\n",
       "      <th>precipitation_inches</th>\n",
       "      <th>cloud_cover</th>\n",
       "      <th>events</th>\n",
       "      <th>wind_dir_degrees</th>\n",
       "      <th>zip_code</th>\n",
       "    </tr>\n",
       "  </thead>\n",
       "  <tbody>\n",
       "    <tr>\n",
       "      <th>2534</th>\n",
       "      <td>7/27/2015</td>\n",
       "      <td>102.0</td>\n",
       "      <td>80.0</td>\n",
       "      <td>57.0</td>\n",
       "      <td>59.0</td>\n",
       "      <td>53.0</td>\n",
       "      <td>50.0</td>\n",
       "      <td>82.0</td>\n",
       "      <td>63.0</td>\n",
       "      <td>17.0</td>\n",
       "      <td>...</td>\n",
       "      <td>10.0</td>\n",
       "      <td>10.0</td>\n",
       "      <td>15.0</td>\n",
       "      <td>3.0</td>\n",
       "      <td>22.0</td>\n",
       "      <td>0</td>\n",
       "      <td>0.0</td>\n",
       "      <td>NaN</td>\n",
       "      <td>303.0</td>\n",
       "      <td>94063</td>\n",
       "    </tr>\n",
       "    <tr>\n",
       "      <th>1433</th>\n",
       "      <td>7/24/2014</td>\n",
       "      <td>102.0</td>\n",
       "      <td>84.0</td>\n",
       "      <td>66.0</td>\n",
       "      <td>64.0</td>\n",
       "      <td>62.0</td>\n",
       "      <td>57.0</td>\n",
       "      <td>83.0</td>\n",
       "      <td>59.0</td>\n",
       "      <td>27.0</td>\n",
       "      <td>...</td>\n",
       "      <td>17.0</td>\n",
       "      <td>10.0</td>\n",
       "      <td>17.0</td>\n",
       "      <td>7.0</td>\n",
       "      <td>NaN</td>\n",
       "      <td>0</td>\n",
       "      <td>1.0</td>\n",
       "      <td>NaN</td>\n",
       "      <td>355.0</td>\n",
       "      <td>94301</td>\n",
       "    </tr>\n",
       "    <tr>\n",
       "      <th>3176</th>\n",
       "      <td>4/30/2015</td>\n",
       "      <td>99.0</td>\n",
       "      <td>74.0</td>\n",
       "      <td>57.0</td>\n",
       "      <td>51.0</td>\n",
       "      <td>46.0</td>\n",
       "      <td>40.0</td>\n",
       "      <td>72.0</td>\n",
       "      <td>44.0</td>\n",
       "      <td>15.0</td>\n",
       "      <td>...</td>\n",
       "      <td>10.0</td>\n",
       "      <td>9.0</td>\n",
       "      <td>10.0</td>\n",
       "      <td>4.0</td>\n",
       "      <td>NaN</td>\n",
       "      <td>0</td>\n",
       "      <td>0.0</td>\n",
       "      <td>NaN</td>\n",
       "      <td>338.0</td>\n",
       "      <td>94041</td>\n",
       "    </tr>\n",
       "    <tr>\n",
       "      <th>2554</th>\n",
       "      <td>8/16/2015</td>\n",
       "      <td>98.0</td>\n",
       "      <td>81.0</td>\n",
       "      <td>64.0</td>\n",
       "      <td>66.0</td>\n",
       "      <td>55.0</td>\n",
       "      <td>45.0</td>\n",
       "      <td>73.0</td>\n",
       "      <td>55.0</td>\n",
       "      <td>18.0</td>\n",
       "      <td>...</td>\n",
       "      <td>9.0</td>\n",
       "      <td>6.0</td>\n",
       "      <td>10.0</td>\n",
       "      <td>2.0</td>\n",
       "      <td>NaN</td>\n",
       "      <td>0</td>\n",
       "      <td>3.0</td>\n",
       "      <td>NaN</td>\n",
       "      <td>320.0</td>\n",
       "      <td>94063</td>\n",
       "    </tr>\n",
       "    <tr>\n",
       "      <th>3649</th>\n",
       "      <td>8/16/2015</td>\n",
       "      <td>97.0</td>\n",
       "      <td>82.0</td>\n",
       "      <td>66.0</td>\n",
       "      <td>63.0</td>\n",
       "      <td>56.0</td>\n",
       "      <td>50.0</td>\n",
       "      <td>87.0</td>\n",
       "      <td>54.0</td>\n",
       "      <td>21.0</td>\n",
       "      <td>...</td>\n",
       "      <td>7.0</td>\n",
       "      <td>5.0</td>\n",
       "      <td>17.0</td>\n",
       "      <td>5.0</td>\n",
       "      <td>20.0</td>\n",
       "      <td>0</td>\n",
       "      <td>4.0</td>\n",
       "      <td>NaN</td>\n",
       "      <td>289.0</td>\n",
       "      <td>95113</td>\n",
       "    </tr>\n",
       "  </tbody>\n",
       "</table>\n",
       "<p>5 rows × 24 columns</p>\n",
       "</div>"
      ],
      "text/plain": [
       "           date  max_temperature_f  mean_temperature_f  min_temperature_f  \\\n",
       "2534  7/27/2015              102.0                80.0               57.0   \n",
       "1433  7/24/2014              102.0                84.0               66.0   \n",
       "3176  4/30/2015               99.0                74.0               57.0   \n",
       "2554  8/16/2015               98.0                81.0               64.0   \n",
       "3649  8/16/2015               97.0                82.0               66.0   \n",
       "\n",
       "      max_dew_point_f  mean_dew_point_f  min_dew_point_f  max_humidity  \\\n",
       "2534             59.0              53.0             50.0          82.0   \n",
       "1433             64.0              62.0             57.0          83.0   \n",
       "3176             51.0              46.0             40.0          72.0   \n",
       "2554             66.0              55.0             45.0          73.0   \n",
       "3649             63.0              56.0             50.0          87.0   \n",
       "\n",
       "      mean_humidity  min_humidity   ...     mean_visibility_miles  \\\n",
       "2534           63.0          17.0   ...                      10.0   \n",
       "1433           59.0          27.0   ...                      17.0   \n",
       "3176           44.0          15.0   ...                      10.0   \n",
       "2554           55.0          18.0   ...                       9.0   \n",
       "3649           54.0          21.0   ...                       7.0   \n",
       "\n",
       "      min_visibility_miles  max_wind_Speed_mph  mean_wind_speed_mph  \\\n",
       "2534                  10.0                15.0                  3.0   \n",
       "1433                  10.0                17.0                  7.0   \n",
       "3176                   9.0                10.0                  4.0   \n",
       "2554                   6.0                10.0                  2.0   \n",
       "3649                   5.0                17.0                  5.0   \n",
       "\n",
       "      max_gust_speed_mph  precipitation_inches  cloud_cover  events  \\\n",
       "2534                22.0                     0          0.0     NaN   \n",
       "1433                 NaN                     0          1.0     NaN   \n",
       "3176                 NaN                     0          0.0     NaN   \n",
       "2554                 NaN                     0          3.0     NaN   \n",
       "3649                20.0                     0          4.0     NaN   \n",
       "\n",
       "      wind_dir_degrees zip_code  \n",
       "2534             303.0    94063  \n",
       "1433             355.0    94301  \n",
       "3176             338.0    94041  \n",
       "2554             320.0    94063  \n",
       "3649             289.0    95113  \n",
       "\n",
       "[5 rows x 24 columns]"
      ]
     },
     "execution_count": 604,
     "metadata": {},
     "output_type": "execute_result"
    }
   ],
   "source": [
    "weather.sort(\"max_temperature_f\", ascending=False).head()"
   ]
  },
  {
   "cell_type": "code",
   "execution_count": 605,
   "metadata": {
    "collapsed": false
   },
   "outputs": [
    {
     "name": "stdout",
     "output_type": "stream",
     "text": [
      "El dia con mayor temperatura fue el 7/27/2015 con 102\n"
     ]
    }
   ],
   "source": [
    "print('El dia con mayor temperatura fue el 7/27/2015 con 102')"
   ]
  },
  {
   "cell_type": "code",
   "execution_count": 606,
   "metadata": {
    "collapsed": false
   },
   "outputs": [
    {
     "data": {
      "text/plain": [
       "<matplotlib.text.Text at 0x140c22990>"
      ]
     },
     "execution_count": 606,
     "metadata": {},
     "output_type": "execute_result"
    },
    {
     "data": {
      "image/png": "[encoded data removed]",
      "text/plain": [
       "<matplotlib.figure.Figure at 0x1408ca410>"
      ]
     },
     "metadata": {},
     "output_type": "display_data"
    }
   ],
   "source": [
    "plt.rcParams['figure.figsize'] = (10, 10)\n",
    "\n",
    "su = indexed_max_temp_weather_last5.plot(kind='bar',title='Maximas temperaturas segun el dia',color='grey')\n",
    "\n",
    "plt.xlabel('Dia')\n",
    "plt.ylabel('Temperatura')"
   ]
  },
  {
   "cell_type": "markdown",
   "metadata": {},
   "source": [
    "# Dates with less temperature:"
   ]
  },
  {
   "cell_type": "code",
   "execution_count": 607,
   "metadata": {
    "collapsed": false
   },
   "outputs": [
    {
     "name": "stdout",
     "output_type": "stream",
     "text": [
      "min_temperature_f\n",
      "25.0     12/9/2013\n",
      "28.0    12/10/2013\n",
      "29.0    12/10/2013\n",
      "30.0      1/1/2015\n",
      "31.0      1/2/2015\n",
      "32.0      1/1/2015\n",
      "33.0      1/1/2015\n",
      "34.0      1/1/2014\n",
      "35.0      1/1/2014\n",
      "36.0      1/1/2014\n",
      "37.0      1/1/2015\n",
      "38.0      1/1/2015\n",
      "39.0      1/1/2014\n",
      "40.0     1/10/2014\n",
      "41.0      1/1/2014\n",
      "42.0     1/11/2015\n",
      "43.0     1/11/2014\n",
      "44.0     1/10/2014\n",
      "45.0     1/13/2014\n",
      "46.0     1/10/2015\n",
      "47.0     1/10/2015\n",
      "48.0     1/10/2014\n",
      "49.0     1/18/2015\n",
      "50.0     1/10/2015\n",
      "51.0     1/27/2015\n",
      "52.0     1/30/2014\n",
      "53.0     1/28/2014\n",
      "54.0     1/29/2014\n",
      "55.0     1/27/2015\n",
      "56.0     1/29/2014\n",
      "57.0     10/1/2013\n",
      "58.0    10/14/2014\n",
      "59.0    10/14/2014\n",
      "60.0    10/10/2014\n",
      "61.0     10/4/2013\n",
      "62.0    10/15/2014\n",
      "63.0      6/9/2014\n",
      "64.0     6/26/2015\n",
      "65.0     7/19/2015\n",
      "66.0     6/30/2015\n",
      "68.0      6/8/2015\n",
      "69.0     4/30/2014\n",
      "71.0     8/15/2015\n",
      "73.0     8/16/2015\n",
      "75.0     4/16/2015\n",
      "Name: date, dtype: object\n"
     ]
    }
   ],
   "source": [
    "print(weather.groupby(['min_temperature_f'], sort=True)['date'].min())"
   ]
  },
  {
   "cell_type": "code",
   "execution_count": 608,
   "metadata": {
    "collapsed": false
   },
   "outputs": [
    {
     "name": "stderr",
     "output_type": "stream",
     "text": [
      "/Library/Frameworks/Python.framework/Versions/2.7/lib/python2.7/site-packages/ipykernel/__main__.py:1: FutureWarning: sort(columns=....) is deprecated, use sort_values(by=.....)\n",
      "  if __name__ == '__main__':\n"
     ]
    },
    {
     "data": {
      "text/html": [
       "<div>\n",
       "<table border=\"1\" class=\"dataframe\">\n",
       "  <thead>\n",
       "    <tr style=\"text-align: right;\">\n",
       "      <th></th>\n",
       "      <th>date</th>\n",
       "      <th>max_temperature_f</th>\n",
       "      <th>mean_temperature_f</th>\n",
       "      <th>min_temperature_f</th>\n",
       "      <th>max_dew_point_f</th>\n",
       "      <th>mean_dew_point_f</th>\n",
       "      <th>min_dew_point_f</th>\n",
       "      <th>max_humidity</th>\n",
       "      <th>mean_humidity</th>\n",
       "      <th>min_humidity</th>\n",
       "      <th>...</th>\n",
       "      <th>mean_visibility_miles</th>\n",
       "      <th>min_visibility_miles</th>\n",
       "      <th>max_wind_Speed_mph</th>\n",
       "      <th>mean_wind_speed_mph</th>\n",
       "      <th>max_gust_speed_mph</th>\n",
       "      <th>precipitation_inches</th>\n",
       "      <th>cloud_cover</th>\n",
       "      <th>events</th>\n",
       "      <th>wind_dir_degrees</th>\n",
       "      <th>zip_code</th>\n",
       "    </tr>\n",
       "  </thead>\n",
       "  <tbody>\n",
       "    <tr>\n",
       "      <th>838</th>\n",
       "      <td>12/9/2013</td>\n",
       "      <td>51.0</td>\n",
       "      <td>38.0</td>\n",
       "      <td>25.0</td>\n",
       "      <td>23.0</td>\n",
       "      <td>20.0</td>\n",
       "      <td>13.0</td>\n",
       "      <td>75.0</td>\n",
       "      <td>48.0</td>\n",
       "      <td>21.0</td>\n",
       "      <td>...</td>\n",
       "      <td>10.0</td>\n",
       "      <td>10.0</td>\n",
       "      <td>9.0</td>\n",
       "      <td>3.0</td>\n",
       "      <td>10.0</td>\n",
       "      <td>0</td>\n",
       "      <td>0.0</td>\n",
       "      <td>NaN</td>\n",
       "      <td>149.0</td>\n",
       "      <td>95113</td>\n",
       "    </tr>\n",
       "    <tr>\n",
       "      <th>655</th>\n",
       "      <td>12/10/2013</td>\n",
       "      <td>52.0</td>\n",
       "      <td>38.0</td>\n",
       "      <td>28.0</td>\n",
       "      <td>32.0</td>\n",
       "      <td>26.0</td>\n",
       "      <td>20.0</td>\n",
       "      <td>74.0</td>\n",
       "      <td>62.0</td>\n",
       "      <td>45.0</td>\n",
       "      <td>...</td>\n",
       "      <td>10.0</td>\n",
       "      <td>10.0</td>\n",
       "      <td>14.0</td>\n",
       "      <td>1.0</td>\n",
       "      <td>14.0</td>\n",
       "      <td>0</td>\n",
       "      <td>0.0</td>\n",
       "      <td>NaN</td>\n",
       "      <td>328.0</td>\n",
       "      <td>94041</td>\n",
       "    </tr>\n",
       "    <tr>\n",
       "      <th>839</th>\n",
       "      <td>12/10/2013</td>\n",
       "      <td>53.0</td>\n",
       "      <td>41.0</td>\n",
       "      <td>28.0</td>\n",
       "      <td>29.0</td>\n",
       "      <td>25.0</td>\n",
       "      <td>22.0</td>\n",
       "      <td>78.0</td>\n",
       "      <td>55.0</td>\n",
       "      <td>32.0</td>\n",
       "      <td>...</td>\n",
       "      <td>10.0</td>\n",
       "      <td>10.0</td>\n",
       "      <td>7.0</td>\n",
       "      <td>1.0</td>\n",
       "      <td>8.0</td>\n",
       "      <td>0</td>\n",
       "      <td>1.0</td>\n",
       "      <td>NaN</td>\n",
       "      <td>139.0</td>\n",
       "      <td>95113</td>\n",
       "    </tr>\n",
       "    <tr>\n",
       "      <th>650</th>\n",
       "      <td>12/5/2013</td>\n",
       "      <td>51.0</td>\n",
       "      <td>38.0</td>\n",
       "      <td>28.0</td>\n",
       "      <td>26.0</td>\n",
       "      <td>22.0</td>\n",
       "      <td>20.0</td>\n",
       "      <td>72.0</td>\n",
       "      <td>55.0</td>\n",
       "      <td>32.0</td>\n",
       "      <td>...</td>\n",
       "      <td>10.0</td>\n",
       "      <td>10.0</td>\n",
       "      <td>14.0</td>\n",
       "      <td>1.0</td>\n",
       "      <td>28.0</td>\n",
       "      <td>0</td>\n",
       "      <td>0.0</td>\n",
       "      <td>NaN</td>\n",
       "      <td>341.0</td>\n",
       "      <td>94041</td>\n",
       "    </tr>\n",
       "    <tr>\n",
       "      <th>470</th>\n",
       "      <td>12/9/2013</td>\n",
       "      <td>51.0</td>\n",
       "      <td>40.0</td>\n",
       "      <td>29.0</td>\n",
       "      <td>25.0</td>\n",
       "      <td>19.0</td>\n",
       "      <td>13.0</td>\n",
       "      <td>64.0</td>\n",
       "      <td>45.0</td>\n",
       "      <td>26.0</td>\n",
       "      <td>...</td>\n",
       "      <td>10.0</td>\n",
       "      <td>10.0</td>\n",
       "      <td>18.0</td>\n",
       "      <td>4.0</td>\n",
       "      <td>23.0</td>\n",
       "      <td>0</td>\n",
       "      <td>0.0</td>\n",
       "      <td>NaN</td>\n",
       "      <td>5.0</td>\n",
       "      <td>94301</td>\n",
       "    </tr>\n",
       "  </tbody>\n",
       "</table>\n",
       "<p>5 rows × 24 columns</p>\n",
       "</div>"
      ],
      "text/plain": [
       "           date  max_temperature_f  mean_temperature_f  min_temperature_f  \\\n",
       "838   12/9/2013               51.0                38.0               25.0   \n",
       "655  12/10/2013               52.0                38.0               28.0   \n",
       "839  12/10/2013               53.0                41.0               28.0   \n",
       "650   12/5/2013               51.0                38.0               28.0   \n",
       "470   12/9/2013               51.0                40.0               29.0   \n",
       "\n",
       "     max_dew_point_f  mean_dew_point_f  min_dew_point_f  max_humidity  \\\n",
       "838             23.0              20.0             13.0          75.0   \n",
       "655             32.0              26.0             20.0          74.0   \n",
       "839             29.0              25.0             22.0          78.0   \n",
       "650             26.0              22.0             20.0          72.0   \n",
       "470             25.0              19.0             13.0          64.0   \n",
       "\n",
       "     mean_humidity  min_humidity   ...     mean_visibility_miles  \\\n",
       "838           48.0          21.0   ...                      10.0   \n",
       "655           62.0          45.0   ...                      10.0   \n",
       "839           55.0          32.0   ...                      10.0   \n",
       "650           55.0          32.0   ...                      10.0   \n",
       "470           45.0          26.0   ...                      10.0   \n",
       "\n",
       "     min_visibility_miles  max_wind_Speed_mph  mean_wind_speed_mph  \\\n",
       "838                  10.0                 9.0                  3.0   \n",
       "655                  10.0                14.0                  1.0   \n",
       "839                  10.0                 7.0                  1.0   \n",
       "650                  10.0                14.0                  1.0   \n",
       "470                  10.0                18.0                  4.0   \n",
       "\n",
       "     max_gust_speed_mph  precipitation_inches  cloud_cover  events  \\\n",
       "838                10.0                     0          0.0     NaN   \n",
       "655                14.0                     0          0.0     NaN   \n",
       "839                 8.0                     0          1.0     NaN   \n",
       "650                28.0                     0          0.0     NaN   \n",
       "470                23.0                     0          0.0     NaN   \n",
       "\n",
       "     wind_dir_degrees zip_code  \n",
       "838             149.0    95113  \n",
       "655             328.0    94041  \n",
       "839             139.0    95113  \n",
       "650             341.0    94041  \n",
       "470               5.0    94301  \n",
       "\n",
       "[5 rows x 24 columns]"
      ]
     },
     "execution_count": 608,
     "metadata": {},
     "output_type": "execute_result"
    }
   ],
   "source": [
    "weather.sort(\"min_temperature_f\", ascending=True).head()"
   ]
  },
  {
   "cell_type": "code",
   "execution_count": 609,
   "metadata": {
    "collapsed": false
   },
   "outputs": [
    {
     "data": {
      "text/html": [
       "<div>\n",
       "<table border=\"1\" class=\"dataframe\">\n",
       "  <thead>\n",
       "    <tr style=\"text-align: right;\">\n",
       "      <th></th>\n",
       "      <th>min_temperature_f</th>\n",
       "      <th>date</th>\n",
       "    </tr>\n",
       "  </thead>\n",
       "  <tbody>\n",
       "    <tr>\n",
       "      <th>0</th>\n",
       "      <td>25.0</td>\n",
       "      <td>12/9/2013</td>\n",
       "    </tr>\n",
       "    <tr>\n",
       "      <th>1</th>\n",
       "      <td>28.0</td>\n",
       "      <td>12/5/2013</td>\n",
       "    </tr>\n",
       "    <tr>\n",
       "      <th>2</th>\n",
       "      <td>29.0</td>\n",
       "      <td>12/9/2013</td>\n",
       "    </tr>\n",
       "    <tr>\n",
       "      <th>3</th>\n",
       "      <td>30.0</td>\n",
       "      <td>12/6/2013</td>\n",
       "    </tr>\n",
       "    <tr>\n",
       "      <th>4</th>\n",
       "      <td>31.0</td>\n",
       "      <td>12/8/2013</td>\n",
       "    </tr>\n",
       "  </tbody>\n",
       "</table>\n",
       "</div>"
      ],
      "text/plain": [
       "   min_temperature_f       date\n",
       "0               25.0  12/9/2013\n",
       "1               28.0  12/5/2013\n",
       "2               29.0  12/9/2013\n",
       "3               30.0  12/6/2013\n",
       "4               31.0  12/8/2013"
      ]
     },
     "execution_count": 609,
     "metadata": {},
     "output_type": "execute_result"
    }
   ],
   "source": [
    "min_temp_weather = weather.groupby(['min_temperature_f'], sort=True)['date'].max()\n",
    "min_temp_weather = min_temp_weather.reset_index()\n",
    "min_temp_weather.head()"
   ]
  },
  {
   "cell_type": "code",
   "execution_count": 610,
   "metadata": {
    "collapsed": false
   },
   "outputs": [
    {
     "data": {
      "text/html": [
       "<div>\n",
       "<table border=\"1\" class=\"dataframe\">\n",
       "  <thead>\n",
       "    <tr style=\"text-align: right;\">\n",
       "      <th></th>\n",
       "      <th>min_temperature_f</th>\n",
       "      <th>date</th>\n",
       "    </tr>\n",
       "    <tr>\n",
       "      <th>date</th>\n",
       "      <th></th>\n",
       "      <th></th>\n",
       "    </tr>\n",
       "  </thead>\n",
       "  <tbody>\n",
       "    <tr>\n",
       "      <th>12/9/2013</th>\n",
       "      <td>25.0</td>\n",
       "      <td>12/9/2013</td>\n",
       "    </tr>\n",
       "    <tr>\n",
       "      <th>12/5/2013</th>\n",
       "      <td>28.0</td>\n",
       "      <td>12/5/2013</td>\n",
       "    </tr>\n",
       "    <tr>\n",
       "      <th>12/9/2013</th>\n",
       "      <td>29.0</td>\n",
       "      <td>12/9/2013</td>\n",
       "    </tr>\n",
       "    <tr>\n",
       "      <th>12/6/2013</th>\n",
       "      <td>30.0</td>\n",
       "      <td>12/6/2013</td>\n",
       "    </tr>\n",
       "    <tr>\n",
       "      <th>12/8/2013</th>\n",
       "      <td>31.0</td>\n",
       "      <td>12/8/2013</td>\n",
       "    </tr>\n",
       "  </tbody>\n",
       "</table>\n",
       "</div>"
      ],
      "text/plain": [
       "           min_temperature_f       date\n",
       "date                                   \n",
       "12/9/2013               25.0  12/9/2013\n",
       "12/5/2013               28.0  12/5/2013\n",
       "12/9/2013               29.0  12/9/2013\n",
       "12/6/2013               30.0  12/6/2013\n",
       "12/8/2013               31.0  12/8/2013"
      ]
     },
     "execution_count": 610,
     "metadata": {},
     "output_type": "execute_result"
    }
   ],
   "source": [
    "indexed_min_temp_weather = min_temp_weather.set_index(min_temp_weather['date'])\n",
    "indexed_min_temp_weather.head()"
   ]
  },
  {
   "cell_type": "code",
   "execution_count": 611,
   "metadata": {
    "collapsed": false
   },
   "outputs": [
    {
     "data": {
      "text/html": [
       "<div>\n",
       "<table border=\"1\" class=\"dataframe\">\n",
       "  <thead>\n",
       "    <tr style=\"text-align: right;\">\n",
       "      <th></th>\n",
       "      <th>min_temperature_f</th>\n",
       "      <th>date</th>\n",
       "    </tr>\n",
       "    <tr>\n",
       "      <th>date</th>\n",
       "      <th></th>\n",
       "      <th></th>\n",
       "    </tr>\n",
       "  </thead>\n",
       "  <tbody>\n",
       "    <tr>\n",
       "      <th>12/9/2013</th>\n",
       "      <td>25.0</td>\n",
       "      <td>12/9/2013</td>\n",
       "    </tr>\n",
       "    <tr>\n",
       "      <th>12/5/2013</th>\n",
       "      <td>28.0</td>\n",
       "      <td>12/5/2013</td>\n",
       "    </tr>\n",
       "    <tr>\n",
       "      <th>12/9/2013</th>\n",
       "      <td>29.0</td>\n",
       "      <td>12/9/2013</td>\n",
       "    </tr>\n",
       "    <tr>\n",
       "      <th>12/6/2013</th>\n",
       "      <td>30.0</td>\n",
       "      <td>12/6/2013</td>\n",
       "    </tr>\n",
       "    <tr>\n",
       "      <th>12/8/2013</th>\n",
       "      <td>31.0</td>\n",
       "      <td>12/8/2013</td>\n",
       "    </tr>\n",
       "  </tbody>\n",
       "</table>\n",
       "</div>"
      ],
      "text/plain": [
       "           min_temperature_f       date\n",
       "date                                   \n",
       "12/9/2013               25.0  12/9/2013\n",
       "12/5/2013               28.0  12/5/2013\n",
       "12/9/2013               29.0  12/9/2013\n",
       "12/6/2013               30.0  12/6/2013\n",
       "12/8/2013               31.0  12/8/2013"
      ]
     },
     "execution_count": 611,
     "metadata": {},
     "output_type": "execute_result"
    }
   ],
   "source": [
    "indexed_min_temp_weather_first5 = indexed_min_temp_weather.head(5)\n",
    "indexed_min_temp_weather_first5.head()"
   ]
  },
  {
   "cell_type": "code",
   "execution_count": 612,
   "metadata": {
    "collapsed": false
   },
   "outputs": [
    {
     "data": {
      "text/plain": [
       "<matplotlib.text.Text at 0x140ef0d10>"
      ]
     },
     "execution_count": 612,
     "metadata": {},
     "output_type": "execute_result"
    },
    {
     "data": {
      "image/png": "[encoded data removed]",
      "text/plain": [
       "<matplotlib.figure.Figure at 0x1408dfd50>"
      ]
     },
     "metadata": {},
     "output_type": "display_data"
    }
   ],
   "source": [
    "plt.rcParams['figure.figsize'] = (10, 10)\n",
    "\n",
    "su = indexed_min_temp_weather_first5.plot(kind='bar',title='Minimas temperaturas segun su fecha',color='grey')\n",
    "\n",
    "plt.xlabel('Fecha')\n",
    "plt.ylabel('Temperatura')"
   ]
  },
  {
   "cell_type": "code",
   "execution_count": 613,
   "metadata": {
    "collapsed": true
   },
   "outputs": [],
   "source": [
    "#Date time index "
   ]
  },
  {
   "cell_type": "code",
   "execution_count": 614,
   "metadata": {
    "collapsed": false
   },
   "outputs": [
    {
     "name": "stdout",
     "output_type": "stream",
     "text": [
      "       max_temperature_f  mean_temperature_f  min_temperature_f  \\\n",
      "count        3661.000000         3661.000000        3661.000000   \n",
      "mean           70.580989           61.348812          51.947282   \n",
      "std             8.385572            7.234397           7.441444   \n",
      "min            44.000000           38.000000          25.000000   \n",
      "25%            64.000000           56.000000          47.000000   \n",
      "50%            70.000000           61.000000          53.000000   \n",
      "75%            77.000000           67.000000          58.000000   \n",
      "max           102.000000           84.000000          75.000000   \n",
      "\n",
      "       max_dew_point_f  mean_dew_point_f  min_dew_point_f  max_humidity  \\\n",
      "count      3611.000000       3611.000000      3611.000000   3611.000000   \n",
      "mean         53.149820         48.794794        44.306840     85.446968   \n",
      "std           6.885449          7.822281         9.355432      9.226972   \n",
      "min          20.000000         13.000000         2.000000     24.000000   \n",
      "25%          49.000000         44.000000        39.000000     82.000000   \n",
      "50%          54.000000         49.000000        46.000000     86.000000   \n",
      "75%          58.000000         55.000000        52.000000     93.000000   \n",
      "max          68.000000         65.000000        63.000000    100.000000   \n",
      "\n",
      "       mean_humidity  min_humidity  max_sea_level_pressure_inches   ...     \\\n",
      "count    3611.000000   3611.000000                    3664.000000   ...      \n",
      "mean       67.256993     46.458045                      30.074997   ...      \n",
      "std        10.945591     14.434784                       0.134492   ...      \n",
      "min        24.000000      4.000000                      29.500000   ...      \n",
      "25%        62.000000     37.000000                      29.980000   ...      \n",
      "50%        68.000000     48.000000                      30.060000   ...      \n",
      "75%        74.000000     56.000000                      30.170000   ...      \n",
      "max        96.000000     93.000000                      30.650000   ...      \n",
      "\n",
      "       mean_wind_speed_mph  max_gust_speed_mph  cloud_cover  wind_dir_degrees  \\\n",
      "count          3664.000000         2766.000000  3664.000000       3664.000000   \n",
      "mean              5.962063           22.299349     2.784389        266.605895   \n",
      "std               3.340603            9.618813     2.276401        102.047645   \n",
      "min               0.000000            6.000000     0.000000          0.000000   \n",
      "25%               3.000000           17.000000     1.000000        254.000000   \n",
      "50%               6.000000           22.000000     3.000000        297.000000   \n",
      "75%               8.000000           25.000000     5.000000        330.000000   \n",
      "max              23.000000          114.000000     8.000000       2772.000000   \n",
      "\n",
      "           zip_code         anio          mes          dia    hora  minutos  \n",
      "count   3665.000000  3665.000000  3665.000000  3665.000000  3665.0   3665.0  \n",
      "mean   94325.000000  2014.160982     6.532060    15.778990     0.0      0.0  \n",
      "std      404.615212     0.690117     3.442545     8.826799     0.0      0.0  \n",
      "min    94041.000000  2013.000000     1.000000     1.000000     0.0      0.0  \n",
      "25%    94063.000000  2014.000000     4.000000     8.000000     0.0      0.0  \n",
      "50%    94107.000000  2014.000000     7.000000    16.000000     0.0      0.0  \n",
      "75%    94301.000000  2015.000000    10.000000    23.000000     0.0      0.0  \n",
      "max    95113.000000  2015.000000    12.000000    31.000000     0.0      0.0  \n",
      "\n",
      "[8 rows x 26 columns]\n"
     ]
    }
   ],
   "source": [
    "weatherWithDates = weather\n",
    "weatherWithDates['dates']= pd.to_datetime(weather['date'], format = '%m/%d/%Y')\n",
    "\n",
    "weatherWithDates['anio'] = pd.DatetimeIndex(weather['date']).year\n",
    "weatherWithDates['mes'] = pd.DatetimeIndex(weather['date']).month\n",
    "weatherWithDates['dia'] = pd.DatetimeIndex(weather['date']).day\n",
    "weatherWithDates['hora'] = pd.DatetimeIndex(weather['date']).hour\n",
    "weatherWithDates['minutos'] = pd.DatetimeIndex(weather['date']).minute\n",
    "\n",
    "print(weatherWithDates.describe())"
   ]
  },
  {
   "cell_type": "code",
   "execution_count": 615,
   "metadata": {
    "collapsed": false
   },
   "outputs": [
    {
     "data": {
      "text/html": [
       "<div>\n",
       "<table border=\"1\" class=\"dataframe\">\n",
       "  <thead>\n",
       "    <tr style=\"text-align: right;\">\n",
       "      <th></th>\n",
       "      <th>date</th>\n",
       "      <th>max_temperature_f</th>\n",
       "      <th>mean_temperature_f</th>\n",
       "      <th>min_temperature_f</th>\n",
       "      <th>max_dew_point_f</th>\n",
       "      <th>mean_dew_point_f</th>\n",
       "      <th>min_dew_point_f</th>\n",
       "      <th>max_humidity</th>\n",
       "      <th>mean_humidity</th>\n",
       "      <th>min_humidity</th>\n",
       "      <th>...</th>\n",
       "      <th>cloud_cover</th>\n",
       "      <th>events</th>\n",
       "      <th>wind_dir_degrees</th>\n",
       "      <th>zip_code</th>\n",
       "      <th>dates</th>\n",
       "      <th>anio</th>\n",
       "      <th>mes</th>\n",
       "      <th>dia</th>\n",
       "      <th>hora</th>\n",
       "      <th>minutos</th>\n",
       "    </tr>\n",
       "  </thead>\n",
       "  <tbody>\n",
       "    <tr>\n",
       "      <th>0</th>\n",
       "      <td>8/29/2013</td>\n",
       "      <td>74.0</td>\n",
       "      <td>68.0</td>\n",
       "      <td>61.0</td>\n",
       "      <td>61.0</td>\n",
       "      <td>58.0</td>\n",
       "      <td>56.0</td>\n",
       "      <td>93.0</td>\n",
       "      <td>75.0</td>\n",
       "      <td>57.0</td>\n",
       "      <td>...</td>\n",
       "      <td>4.0</td>\n",
       "      <td>NaN</td>\n",
       "      <td>286.0</td>\n",
       "      <td>94107</td>\n",
       "      <td>2013-08-29</td>\n",
       "      <td>2013</td>\n",
       "      <td>8</td>\n",
       "      <td>29</td>\n",
       "      <td>0</td>\n",
       "      <td>0</td>\n",
       "    </tr>\n",
       "    <tr>\n",
       "      <th>1</th>\n",
       "      <td>8/30/2013</td>\n",
       "      <td>78.0</td>\n",
       "      <td>69.0</td>\n",
       "      <td>60.0</td>\n",
       "      <td>61.0</td>\n",
       "      <td>58.0</td>\n",
       "      <td>56.0</td>\n",
       "      <td>90.0</td>\n",
       "      <td>70.0</td>\n",
       "      <td>50.0</td>\n",
       "      <td>...</td>\n",
       "      <td>2.0</td>\n",
       "      <td>NaN</td>\n",
       "      <td>291.0</td>\n",
       "      <td>94107</td>\n",
       "      <td>2013-08-30</td>\n",
       "      <td>2013</td>\n",
       "      <td>8</td>\n",
       "      <td>30</td>\n",
       "      <td>0</td>\n",
       "      <td>0</td>\n",
       "    </tr>\n",
       "    <tr>\n",
       "      <th>2</th>\n",
       "      <td>8/31/2013</td>\n",
       "      <td>71.0</td>\n",
       "      <td>64.0</td>\n",
       "      <td>57.0</td>\n",
       "      <td>57.0</td>\n",
       "      <td>56.0</td>\n",
       "      <td>54.0</td>\n",
       "      <td>93.0</td>\n",
       "      <td>75.0</td>\n",
       "      <td>57.0</td>\n",
       "      <td>...</td>\n",
       "      <td>4.0</td>\n",
       "      <td>NaN</td>\n",
       "      <td>284.0</td>\n",
       "      <td>94107</td>\n",
       "      <td>2013-08-31</td>\n",
       "      <td>2013</td>\n",
       "      <td>8</td>\n",
       "      <td>31</td>\n",
       "      <td>0</td>\n",
       "      <td>0</td>\n",
       "    </tr>\n",
       "    <tr>\n",
       "      <th>3</th>\n",
       "      <td>9/1/2013</td>\n",
       "      <td>74.0</td>\n",
       "      <td>66.0</td>\n",
       "      <td>58.0</td>\n",
       "      <td>60.0</td>\n",
       "      <td>56.0</td>\n",
       "      <td>53.0</td>\n",
       "      <td>87.0</td>\n",
       "      <td>68.0</td>\n",
       "      <td>49.0</td>\n",
       "      <td>...</td>\n",
       "      <td>4.0</td>\n",
       "      <td>NaN</td>\n",
       "      <td>284.0</td>\n",
       "      <td>94107</td>\n",
       "      <td>2013-09-01</td>\n",
       "      <td>2013</td>\n",
       "      <td>9</td>\n",
       "      <td>1</td>\n",
       "      <td>0</td>\n",
       "      <td>0</td>\n",
       "    </tr>\n",
       "    <tr>\n",
       "      <th>4</th>\n",
       "      <td>9/2/2013</td>\n",
       "      <td>75.0</td>\n",
       "      <td>69.0</td>\n",
       "      <td>62.0</td>\n",
       "      <td>61.0</td>\n",
       "      <td>60.0</td>\n",
       "      <td>58.0</td>\n",
       "      <td>93.0</td>\n",
       "      <td>77.0</td>\n",
       "      <td>61.0</td>\n",
       "      <td>...</td>\n",
       "      <td>6.0</td>\n",
       "      <td>NaN</td>\n",
       "      <td>277.0</td>\n",
       "      <td>94107</td>\n",
       "      <td>2013-09-02</td>\n",
       "      <td>2013</td>\n",
       "      <td>9</td>\n",
       "      <td>2</td>\n",
       "      <td>0</td>\n",
       "      <td>0</td>\n",
       "    </tr>\n",
       "  </tbody>\n",
       "</table>\n",
       "<p>5 rows × 30 columns</p>\n",
       "</div>"
      ],
      "text/plain": [
       "        date  max_temperature_f  mean_temperature_f  min_temperature_f  \\\n",
       "0  8/29/2013               74.0                68.0               61.0   \n",
       "1  8/30/2013               78.0                69.0               60.0   \n",
       "2  8/31/2013               71.0                64.0               57.0   \n",
       "3   9/1/2013               74.0                66.0               58.0   \n",
       "4   9/2/2013               75.0                69.0               62.0   \n",
       "\n",
       "   max_dew_point_f  mean_dew_point_f  min_dew_point_f  max_humidity  \\\n",
       "0             61.0              58.0             56.0          93.0   \n",
       "1             61.0              58.0             56.0          90.0   \n",
       "2             57.0              56.0             54.0          93.0   \n",
       "3             60.0              56.0             53.0          87.0   \n",
       "4             61.0              60.0             58.0          93.0   \n",
       "\n",
       "   mean_humidity  min_humidity   ...    cloud_cover  events  wind_dir_degrees  \\\n",
       "0           75.0          57.0   ...            4.0     NaN             286.0   \n",
       "1           70.0          50.0   ...            2.0     NaN             291.0   \n",
       "2           75.0          57.0   ...            4.0     NaN             284.0   \n",
       "3           68.0          49.0   ...            4.0     NaN             284.0   \n",
       "4           77.0          61.0   ...            6.0     NaN             277.0   \n",
       "\n",
       "   zip_code      dates  anio  mes  dia  hora minutos  \n",
       "0     94107 2013-08-29  2013    8   29     0       0  \n",
       "1     94107 2013-08-30  2013    8   30     0       0  \n",
       "2     94107 2013-08-31  2013    8   31     0       0  \n",
       "3     94107 2013-09-01  2013    9    1     0       0  \n",
       "4     94107 2013-09-02  2013    9    2     0       0  \n",
       "\n",
       "[5 rows x 30 columns]"
      ]
     },
     "execution_count": 615,
     "metadata": {},
     "output_type": "execute_result"
    }
   ],
   "source": [
    "weatherWithDates.head()"
   ]
  },
  {
   "cell_type": "markdown",
   "metadata": {},
   "source": [
    "# Cantidad de dias que llovio en cada mes en 2015"
   ]
  },
  {
   "cell_type": "code",
   "execution_count": 616,
   "metadata": {
    "collapsed": false
   },
   "outputs": [
    {
     "data": {
      "text/html": [
       "<div>\n",
       "<table border=\"1\" class=\"dataframe\">\n",
       "  <thead>\n",
       "    <tr style=\"text-align: right;\">\n",
       "      <th></th>\n",
       "      <th>date</th>\n",
       "      <th>max_temperature_f</th>\n",
       "      <th>mean_temperature_f</th>\n",
       "      <th>min_temperature_f</th>\n",
       "      <th>max_dew_point_f</th>\n",
       "      <th>mean_dew_point_f</th>\n",
       "      <th>min_dew_point_f</th>\n",
       "      <th>max_humidity</th>\n",
       "      <th>mean_humidity</th>\n",
       "      <th>min_humidity</th>\n",
       "      <th>...</th>\n",
       "      <th>cloud_cover</th>\n",
       "      <th>events</th>\n",
       "      <th>wind_dir_degrees</th>\n",
       "      <th>zip_code</th>\n",
       "      <th>dates</th>\n",
       "      <th>anio</th>\n",
       "      <th>mes</th>\n",
       "      <th>dia</th>\n",
       "      <th>hora</th>\n",
       "      <th>minutos</th>\n",
       "    </tr>\n",
       "  </thead>\n",
       "  <tbody>\n",
       "    <tr>\n",
       "      <th>1962</th>\n",
       "      <td>1/1/2015</td>\n",
       "      <td>56.0</td>\n",
       "      <td>47.0</td>\n",
       "      <td>38.0</td>\n",
       "      <td>27.0</td>\n",
       "      <td>20.0</td>\n",
       "      <td>14.0</td>\n",
       "      <td>54.0</td>\n",
       "      <td>37.0</td>\n",
       "      <td>20.0</td>\n",
       "      <td>...</td>\n",
       "      <td>1.0</td>\n",
       "      <td>NaN</td>\n",
       "      <td>40.0</td>\n",
       "      <td>94107</td>\n",
       "      <td>2015-01-01</td>\n",
       "      <td>2015</td>\n",
       "      <td>1</td>\n",
       "      <td>1</td>\n",
       "      <td>0</td>\n",
       "      <td>0</td>\n",
       "    </tr>\n",
       "    <tr>\n",
       "      <th>1963</th>\n",
       "      <td>1/2/2015</td>\n",
       "      <td>50.0</td>\n",
       "      <td>41.0</td>\n",
       "      <td>32.0</td>\n",
       "      <td>36.0</td>\n",
       "      <td>30.0</td>\n",
       "      <td>25.0</td>\n",
       "      <td>76.0</td>\n",
       "      <td>64.0</td>\n",
       "      <td>52.0</td>\n",
       "      <td>...</td>\n",
       "      <td>1.0</td>\n",
       "      <td>NaN</td>\n",
       "      <td>63.0</td>\n",
       "      <td>94107</td>\n",
       "      <td>2015-01-02</td>\n",
       "      <td>2015</td>\n",
       "      <td>1</td>\n",
       "      <td>2</td>\n",
       "      <td>0</td>\n",
       "      <td>0</td>\n",
       "    </tr>\n",
       "    <tr>\n",
       "      <th>1964</th>\n",
       "      <td>1/3/2015</td>\n",
       "      <td>53.0</td>\n",
       "      <td>43.0</td>\n",
       "      <td>32.0</td>\n",
       "      <td>38.0</td>\n",
       "      <td>34.0</td>\n",
       "      <td>28.0</td>\n",
       "      <td>82.0</td>\n",
       "      <td>66.0</td>\n",
       "      <td>50.0</td>\n",
       "      <td>...</td>\n",
       "      <td>1.0</td>\n",
       "      <td>NaN</td>\n",
       "      <td>305.0</td>\n",
       "      <td>94107</td>\n",
       "      <td>2015-01-03</td>\n",
       "      <td>2015</td>\n",
       "      <td>1</td>\n",
       "      <td>3</td>\n",
       "      <td>0</td>\n",
       "      <td>0</td>\n",
       "    </tr>\n",
       "    <tr>\n",
       "      <th>1965</th>\n",
       "      <td>1/4/2015</td>\n",
       "      <td>54.0</td>\n",
       "      <td>45.0</td>\n",
       "      <td>35.0</td>\n",
       "      <td>42.0</td>\n",
       "      <td>37.0</td>\n",
       "      <td>33.0</td>\n",
       "      <td>85.0</td>\n",
       "      <td>72.0</td>\n",
       "      <td>59.0</td>\n",
       "      <td>...</td>\n",
       "      <td>5.0</td>\n",
       "      <td>NaN</td>\n",
       "      <td>154.0</td>\n",
       "      <td>94107</td>\n",
       "      <td>2015-01-04</td>\n",
       "      <td>2015</td>\n",
       "      <td>1</td>\n",
       "      <td>4</td>\n",
       "      <td>0</td>\n",
       "      <td>0</td>\n",
       "    </tr>\n",
       "    <tr>\n",
       "      <th>1966</th>\n",
       "      <td>1/5/2015</td>\n",
       "      <td>56.0</td>\n",
       "      <td>46.0</td>\n",
       "      <td>36.0</td>\n",
       "      <td>43.0</td>\n",
       "      <td>38.0</td>\n",
       "      <td>32.0</td>\n",
       "      <td>85.0</td>\n",
       "      <td>68.0</td>\n",
       "      <td>50.0</td>\n",
       "      <td>...</td>\n",
       "      <td>4.0</td>\n",
       "      <td>NaN</td>\n",
       "      <td>170.0</td>\n",
       "      <td>94107</td>\n",
       "      <td>2015-01-05</td>\n",
       "      <td>2015</td>\n",
       "      <td>1</td>\n",
       "      <td>5</td>\n",
       "      <td>0</td>\n",
       "      <td>0</td>\n",
       "    </tr>\n",
       "  </tbody>\n",
       "</table>\n",
       "<p>5 rows × 30 columns</p>\n",
       "</div>"
      ],
      "text/plain": [
       "          date  max_temperature_f  mean_temperature_f  min_temperature_f  \\\n",
       "1962  1/1/2015               56.0                47.0               38.0   \n",
       "1963  1/2/2015               50.0                41.0               32.0   \n",
       "1964  1/3/2015               53.0                43.0               32.0   \n",
       "1965  1/4/2015               54.0                45.0               35.0   \n",
       "1966  1/5/2015               56.0                46.0               36.0   \n",
       "\n",
       "      max_dew_point_f  mean_dew_point_f  min_dew_point_f  max_humidity  \\\n",
       "1962             27.0              20.0             14.0          54.0   \n",
       "1963             36.0              30.0             25.0          76.0   \n",
       "1964             38.0              34.0             28.0          82.0   \n",
       "1965             42.0              37.0             33.0          85.0   \n",
       "1966             43.0              38.0             32.0          85.0   \n",
       "\n",
       "      mean_humidity  min_humidity   ...    cloud_cover  events  \\\n",
       "1962           37.0          20.0   ...            1.0     NaN   \n",
       "1963           64.0          52.0   ...            1.0     NaN   \n",
       "1964           66.0          50.0   ...            1.0     NaN   \n",
       "1965           72.0          59.0   ...            5.0     NaN   \n",
       "1966           68.0          50.0   ...            4.0     NaN   \n",
       "\n",
       "      wind_dir_degrees  zip_code      dates  anio  mes  dia  hora minutos  \n",
       "1962              40.0     94107 2015-01-01  2015    1    1     0       0  \n",
       "1963              63.0     94107 2015-01-02  2015    1    2     0       0  \n",
       "1964             305.0     94107 2015-01-03  2015    1    3     0       0  \n",
       "1965             154.0     94107 2015-01-04  2015    1    4     0       0  \n",
       "1966             170.0     94107 2015-01-05  2015    1    5     0       0  \n",
       "\n",
       "[5 rows x 30 columns]"
      ]
     },
     "execution_count": 616,
     "metadata": {},
     "output_type": "execute_result"
    }
   ],
   "source": [
    "weather_2015 = weatherWithDates[weatherWithDates['anio'] == 2015]\n",
    "weather_2015.head()"
   ]
  },
  {
   "cell_type": "code",
   "execution_count": 617,
   "metadata": {
    "collapsed": false
   },
   "outputs": [
    {
     "data": {
      "text/plain": [
       "array([nan, 'Fog', 'Fog-Rain', 'Rain', 'Rain-Thunderstorm'], dtype=object)"
      ]
     },
     "execution_count": 617,
     "metadata": {},
     "output_type": "execute_result"
    }
   ],
   "source": [
    "weather_2015['events'].unique()"
   ]
  },
  {
   "cell_type": "code",
   "execution_count": 618,
   "metadata": {
    "collapsed": false
   },
   "outputs": [
    {
     "data": {
      "text/html": [
       "<div>\n",
       "<table border=\"1\" class=\"dataframe\">\n",
       "  <thead>\n",
       "    <tr style=\"text-align: right;\">\n",
       "      <th></th>\n",
       "      <th>date</th>\n",
       "      <th>max_temperature_f</th>\n",
       "      <th>mean_temperature_f</th>\n",
       "      <th>min_temperature_f</th>\n",
       "      <th>max_dew_point_f</th>\n",
       "      <th>mean_dew_point_f</th>\n",
       "      <th>min_dew_point_f</th>\n",
       "      <th>max_humidity</th>\n",
       "      <th>mean_humidity</th>\n",
       "      <th>min_humidity</th>\n",
       "      <th>...</th>\n",
       "      <th>cloud_cover</th>\n",
       "      <th>events</th>\n",
       "      <th>wind_dir_degrees</th>\n",
       "      <th>zip_code</th>\n",
       "      <th>dates</th>\n",
       "      <th>anio</th>\n",
       "      <th>mes</th>\n",
       "      <th>dia</th>\n",
       "      <th>hora</th>\n",
       "      <th>minutos</th>\n",
       "    </tr>\n",
       "  </thead>\n",
       "  <tbody>\n",
       "    <tr>\n",
       "      <th>1998</th>\n",
       "      <td>2/6/2015</td>\n",
       "      <td>63.0</td>\n",
       "      <td>61.0</td>\n",
       "      <td>58.0</td>\n",
       "      <td>58.0</td>\n",
       "      <td>54.0</td>\n",
       "      <td>47.0</td>\n",
       "      <td>93.0</td>\n",
       "      <td>77.0</td>\n",
       "      <td>60.0</td>\n",
       "      <td>...</td>\n",
       "      <td>8.0</td>\n",
       "      <td>Rain</td>\n",
       "      <td>150.0</td>\n",
       "      <td>94107</td>\n",
       "      <td>2015-02-06</td>\n",
       "      <td>2015</td>\n",
       "      <td>2</td>\n",
       "      <td>6</td>\n",
       "      <td>0</td>\n",
       "      <td>0</td>\n",
       "    </tr>\n",
       "    <tr>\n",
       "      <th>1999</th>\n",
       "      <td>2/7/2015</td>\n",
       "      <td>64.0</td>\n",
       "      <td>59.0</td>\n",
       "      <td>54.0</td>\n",
       "      <td>61.0</td>\n",
       "      <td>57.0</td>\n",
       "      <td>52.0</td>\n",
       "      <td>93.0</td>\n",
       "      <td>89.0</td>\n",
       "      <td>84.0</td>\n",
       "      <td>...</td>\n",
       "      <td>6.0</td>\n",
       "      <td>Rain</td>\n",
       "      <td>182.0</td>\n",
       "      <td>94107</td>\n",
       "      <td>2015-02-07</td>\n",
       "      <td>2015</td>\n",
       "      <td>2</td>\n",
       "      <td>7</td>\n",
       "      <td>0</td>\n",
       "      <td>0</td>\n",
       "    </tr>\n",
       "    <tr>\n",
       "      <th>2000</th>\n",
       "      <td>2/8/2015</td>\n",
       "      <td>63.0</td>\n",
       "      <td>58.0</td>\n",
       "      <td>53.0</td>\n",
       "      <td>57.0</td>\n",
       "      <td>55.0</td>\n",
       "      <td>52.0</td>\n",
       "      <td>93.0</td>\n",
       "      <td>83.0</td>\n",
       "      <td>72.0</td>\n",
       "      <td>...</td>\n",
       "      <td>7.0</td>\n",
       "      <td>Rain</td>\n",
       "      <td>156.0</td>\n",
       "      <td>94107</td>\n",
       "      <td>2015-02-08</td>\n",
       "      <td>2015</td>\n",
       "      <td>2</td>\n",
       "      <td>8</td>\n",
       "      <td>0</td>\n",
       "      <td>0</td>\n",
       "    </tr>\n",
       "    <tr>\n",
       "      <th>2031</th>\n",
       "      <td>3/11/2015</td>\n",
       "      <td>65.0</td>\n",
       "      <td>58.0</td>\n",
       "      <td>51.0</td>\n",
       "      <td>56.0</td>\n",
       "      <td>51.0</td>\n",
       "      <td>43.0</td>\n",
       "      <td>100.0</td>\n",
       "      <td>72.0</td>\n",
       "      <td>44.0</td>\n",
       "      <td>...</td>\n",
       "      <td>5.0</td>\n",
       "      <td>Rain</td>\n",
       "      <td>308.0</td>\n",
       "      <td>94107</td>\n",
       "      <td>2015-03-11</td>\n",
       "      <td>2015</td>\n",
       "      <td>3</td>\n",
       "      <td>11</td>\n",
       "      <td>0</td>\n",
       "      <td>0</td>\n",
       "    </tr>\n",
       "    <tr>\n",
       "      <th>2042</th>\n",
       "      <td>3/22/2015</td>\n",
       "      <td>66.0</td>\n",
       "      <td>60.0</td>\n",
       "      <td>54.0</td>\n",
       "      <td>56.0</td>\n",
       "      <td>52.0</td>\n",
       "      <td>48.0</td>\n",
       "      <td>93.0</td>\n",
       "      <td>78.0</td>\n",
       "      <td>63.0</td>\n",
       "      <td>...</td>\n",
       "      <td>7.0</td>\n",
       "      <td>Rain</td>\n",
       "      <td>197.0</td>\n",
       "      <td>94107</td>\n",
       "      <td>2015-03-22</td>\n",
       "      <td>2015</td>\n",
       "      <td>3</td>\n",
       "      <td>22</td>\n",
       "      <td>0</td>\n",
       "      <td>0</td>\n",
       "    </tr>\n",
       "  </tbody>\n",
       "</table>\n",
       "<p>5 rows × 30 columns</p>\n",
       "</div>"
      ],
      "text/plain": [
       "           date  max_temperature_f  mean_temperature_f  min_temperature_f  \\\n",
       "1998   2/6/2015               63.0                61.0               58.0   \n",
       "1999   2/7/2015               64.0                59.0               54.0   \n",
       "2000   2/8/2015               63.0                58.0               53.0   \n",
       "2031  3/11/2015               65.0                58.0               51.0   \n",
       "2042  3/22/2015               66.0                60.0               54.0   \n",
       "\n",
       "      max_dew_point_f  mean_dew_point_f  min_dew_point_f  max_humidity  \\\n",
       "1998             58.0              54.0             47.0          93.0   \n",
       "1999             61.0              57.0             52.0          93.0   \n",
       "2000             57.0              55.0             52.0          93.0   \n",
       "2031             56.0              51.0             43.0         100.0   \n",
       "2042             56.0              52.0             48.0          93.0   \n",
       "\n",
       "      mean_humidity  min_humidity   ...    cloud_cover  events  \\\n",
       "1998           77.0          60.0   ...            8.0    Rain   \n",
       "1999           89.0          84.0   ...            6.0    Rain   \n",
       "2000           83.0          72.0   ...            7.0    Rain   \n",
       "2031           72.0          44.0   ...            5.0    Rain   \n",
       "2042           78.0          63.0   ...            7.0    Rain   \n",
       "\n",
       "      wind_dir_degrees  zip_code      dates  anio  mes  dia  hora minutos  \n",
       "1998             150.0     94107 2015-02-06  2015    2    6     0       0  \n",
       "1999             182.0     94107 2015-02-07  2015    2    7     0       0  \n",
       "2000             156.0     94107 2015-02-08  2015    2    8     0       0  \n",
       "2031             308.0     94107 2015-03-11  2015    3   11     0       0  \n",
       "2042             197.0     94107 2015-03-22  2015    3   22     0       0  \n",
       "\n",
       "[5 rows x 30 columns]"
      ]
     },
     "execution_count": 618,
     "metadata": {},
     "output_type": "execute_result"
    }
   ],
   "source": [
    "# Rain - 2015\n",
    "\n",
    "weather_2015_rain = weather_2015[weather_2015['events'] == 'Rain']\n",
    "weather_2015_rain.head()"
   ]
  },
  {
   "cell_type": "code",
   "execution_count": 619,
   "metadata": {
    "collapsed": false
   },
   "outputs": [
    {
     "data": {
      "text/plain": [
       "(76, 30)"
      ]
     },
     "execution_count": 619,
     "metadata": {},
     "output_type": "execute_result"
    }
   ],
   "source": [
    "weather_2015_rain.shape # Hay 76 dias de lluvia en todo el 2015"
   ]
  },
  {
   "cell_type": "code",
   "execution_count": 620,
   "metadata": {
    "collapsed": true
   },
   "outputs": [],
   "source": [
    "weather_2015_rain_enero = weather_2015_rain[weather_2015_rain['mes'] == 1]"
   ]
  },
  {
   "cell_type": "code",
   "execution_count": 621,
   "metadata": {
    "collapsed": false
   },
   "outputs": [
    {
     "data": {
      "text/html": [
       "<div>\n",
       "<table border=\"1\" class=\"dataframe\">\n",
       "  <thead>\n",
       "    <tr style=\"text-align: right;\">\n",
       "      <th></th>\n",
       "      <th>date</th>\n",
       "      <th>max_temperature_f</th>\n",
       "      <th>mean_temperature_f</th>\n",
       "      <th>min_temperature_f</th>\n",
       "      <th>max_dew_point_f</th>\n",
       "      <th>mean_dew_point_f</th>\n",
       "      <th>min_dew_point_f</th>\n",
       "      <th>max_humidity</th>\n",
       "      <th>mean_humidity</th>\n",
       "      <th>min_humidity</th>\n",
       "      <th>...</th>\n",
       "      <th>cloud_cover</th>\n",
       "      <th>events</th>\n",
       "      <th>wind_dir_degrees</th>\n",
       "      <th>zip_code</th>\n",
       "      <th>dates</th>\n",
       "      <th>anio</th>\n",
       "      <th>mes</th>\n",
       "      <th>dia</th>\n",
       "      <th>hora</th>\n",
       "      <th>minutos</th>\n",
       "    </tr>\n",
       "  </thead>\n",
       "  <tbody>\n",
       "    <tr>\n",
       "      <th>3060</th>\n",
       "      <td>1/4/2015</td>\n",
       "      <td>56.0</td>\n",
       "      <td>46.0</td>\n",
       "      <td>36.0</td>\n",
       "      <td>40.0</td>\n",
       "      <td>36.0</td>\n",
       "      <td>32.0</td>\n",
       "      <td>92.0</td>\n",
       "      <td>70.0</td>\n",
       "      <td>47.0</td>\n",
       "      <td>...</td>\n",
       "      <td>0.0</td>\n",
       "      <td>Rain</td>\n",
       "      <td>348.0</td>\n",
       "      <td>94041</td>\n",
       "      <td>2015-01-04</td>\n",
       "      <td>2015</td>\n",
       "      <td>1</td>\n",
       "      <td>4</td>\n",
       "      <td>0</td>\n",
       "      <td>0</td>\n",
       "    </tr>\n",
       "  </tbody>\n",
       "</table>\n",
       "<p>1 rows × 30 columns</p>\n",
       "</div>"
      ],
      "text/plain": [
       "          date  max_temperature_f  mean_temperature_f  min_temperature_f  \\\n",
       "3060  1/4/2015               56.0                46.0               36.0   \n",
       "\n",
       "      max_dew_point_f  mean_dew_point_f  min_dew_point_f  max_humidity  \\\n",
       "3060             40.0              36.0             32.0          92.0   \n",
       "\n",
       "      mean_humidity  min_humidity   ...    cloud_cover  events  \\\n",
       "3060           70.0          47.0   ...            0.0    Rain   \n",
       "\n",
       "      wind_dir_degrees  zip_code      dates  anio  mes  dia  hora minutos  \n",
       "3060             348.0     94041 2015-01-04  2015    1    4     0       0  \n",
       "\n",
       "[1 rows x 30 columns]"
      ]
     },
     "execution_count": 621,
     "metadata": {},
     "output_type": "execute_result"
    }
   ],
   "source": [
    "weather_2015_rain_enero.head()"
   ]
  },
  {
   "cell_type": "code",
   "execution_count": 622,
   "metadata": {
    "collapsed": false
   },
   "outputs": [
    {
     "data": {
      "text/plain": [
       "(1, 30)"
      ]
     },
     "execution_count": 622,
     "metadata": {},
     "output_type": "execute_result"
    }
   ],
   "source": [
    "weather_2015_rain_enero.shape #Llovio solo 1 dia en enero del 2015"
   ]
  },
  {
   "cell_type": "code",
   "execution_count": 623,
   "metadata": {
    "collapsed": false
   },
   "outputs": [
    {
     "data": {
      "text/plain": [
       "(17, 30)"
      ]
     },
     "execution_count": 623,
     "metadata": {},
     "output_type": "execute_result"
    }
   ],
   "source": [
    "weather_2015_rain_febrero = weather_2015_rain[weather_2015_rain['mes'] == 2]\n",
    "weather_2015_rain_febrero.shape #Llovieron 17 dias en Febrero del 2015"
   ]
  },
  {
   "cell_type": "code",
   "execution_count": 624,
   "metadata": {
    "collapsed": false
   },
   "outputs": [
    {
     "data": {
      "text/plain": [
       "(15, 30)"
      ]
     },
     "execution_count": 624,
     "metadata": {},
     "output_type": "execute_result"
    }
   ],
   "source": [
    "weather_2015_rain_marzo = weather_2015_rain[weather_2015_rain['mes'] == 3]\n",
    "weather_2015_rain_marzo.shape #Llovieron 15 dias en marzo 2015"
   ]
  },
  {
   "cell_type": "code",
   "execution_count": 625,
   "metadata": {
    "collapsed": false
   },
   "outputs": [
    {
     "data": {
      "text/plain": [
       "(15, 30)"
      ]
     },
     "execution_count": 625,
     "metadata": {},
     "output_type": "execute_result"
    }
   ],
   "source": [
    "weather_2015_rain_abril = weather_2015_rain[weather_2015_rain['mes'] == 4]\n",
    "weather_2015_rain_abril.shape #Llovieron 15 dias en abril 2015"
   ]
  },
  {
   "cell_type": "code",
   "execution_count": 626,
   "metadata": {
    "collapsed": false
   },
   "outputs": [
    {
     "data": {
      "text/plain": [
       "(12, 30)"
      ]
     },
     "execution_count": 626,
     "metadata": {},
     "output_type": "execute_result"
    }
   ],
   "source": [
    "weather_2015_rain_mayo = weather_2015_rain[weather_2015_rain['mes'] == 5]\n",
    "weather_2015_rain_mayo.shape #Llovieron 12 dias en mayo 2015"
   ]
  },
  {
   "cell_type": "code",
   "execution_count": 627,
   "metadata": {
    "collapsed": false
   },
   "outputs": [
    {
     "data": {
      "text/plain": [
       "(5, 30)"
      ]
     },
     "execution_count": 627,
     "metadata": {},
     "output_type": "execute_result"
    }
   ],
   "source": [
    "weather_2015_rain_junio = weather_2015_rain[weather_2015_rain['mes'] == 6]\n",
    "weather_2015_rain_junio.shape #Llovieron 5 dias en junio 2015"
   ]
  },
  {
   "cell_type": "code",
   "execution_count": 628,
   "metadata": {
    "collapsed": false
   },
   "outputs": [
    {
     "data": {
      "text/plain": [
       "(8, 30)"
      ]
     },
     "execution_count": 628,
     "metadata": {},
     "output_type": "execute_result"
    }
   ],
   "source": [
    "weather_2015_rain_julio = weather_2015_rain[weather_2015_rain['mes'] == 7]\n",
    "weather_2015_rain_julio.shape #Llovieron 8 dias en julio 2015"
   ]
  },
  {
   "cell_type": "code",
   "execution_count": 629,
   "metadata": {
    "collapsed": false
   },
   "outputs": [
    {
     "data": {
      "text/plain": [
       "(3, 30)"
      ]
     },
     "execution_count": 629,
     "metadata": {},
     "output_type": "execute_result"
    }
   ],
   "source": [
    "weather_2015_rain_agosto = weather_2015_rain[weather_2015_rain['mes'] == 8]\n",
    "weather_2015_rain_agosto.shape #Llovieron 3 dias en agosto 2015"
   ]
  },
  {
   "cell_type": "code",
   "execution_count": 630,
   "metadata": {
    "collapsed": false
   },
   "outputs": [
    {
     "data": {
      "text/plain": [
       "(0, 30)"
      ]
     },
     "execution_count": 630,
     "metadata": {},
     "output_type": "execute_result"
    }
   ],
   "source": [
    "weather_2015_rain_septiembre = weather_2015_rain[weather_2015_rain['mes'] == 9]\n",
    "weather_2015_rain_septiembre.shape #No llovio en septiembre 2015"
   ]
  },
  {
   "cell_type": "code",
   "execution_count": 631,
   "metadata": {
    "collapsed": false
   },
   "outputs": [
    {
     "data": {
      "text/plain": [
       "(0, 30)"
      ]
     },
     "execution_count": 631,
     "metadata": {},
     "output_type": "execute_result"
    }
   ],
   "source": [
    "weather_2015_rain_octubre = weather_2015_rain[weather_2015_rain['mes'] == 10]\n",
    "weather_2015_rain_octubre.shape #No llovio en octubre 2015"
   ]
  },
  {
   "cell_type": "code",
   "execution_count": 632,
   "metadata": {
    "collapsed": false
   },
   "outputs": [
    {
     "data": {
      "text/plain": [
       "(0, 30)"
      ]
     },
     "execution_count": 632,
     "metadata": {},
     "output_type": "execute_result"
    }
   ],
   "source": [
    "weather_2015_rain_noviembre = weather_2015_rain[weather_2015_rain['mes'] == 11]\n",
    "weather_2015_rain_noviembre.shape #No llovio en noviembre 2015"
   ]
  },
  {
   "cell_type": "code",
   "execution_count": 633,
   "metadata": {
    "collapsed": false
   },
   "outputs": [
    {
     "data": {
      "text/plain": [
       "(0, 30)"
      ]
     },
     "execution_count": 633,
     "metadata": {},
     "output_type": "execute_result"
    }
   ],
   "source": [
    "weather_2015_rain_diciembre = weather_2015_rain[weather_2015_rain['mes'] == 12]\n",
    "weather_2015_rain_diciembre.shape #No llovio en diciembre 2015"
   ]
  },
  {
   "cell_type": "code",
   "execution_count": 634,
   "metadata": {
    "collapsed": false
   },
   "outputs": [],
   "source": [
    "weather_2015_months_rain = weather_2015_rain.groupby(by='mes')['mes'].count()"
   ]
  },
  {
   "cell_type": "code",
   "execution_count": 635,
   "metadata": {
    "collapsed": false
   },
   "outputs": [
    {
     "data": {
      "text/plain": [
       "mes\n",
       "1     1\n",
       "2    17\n",
       "3    15\n",
       "4    15\n",
       "5    12\n",
       "Name: mes, dtype: int64"
      ]
     },
     "execution_count": 635,
     "metadata": {},
     "output_type": "execute_result"
    }
   ],
   "source": [
    "weather_2015_months_rain.head()"
   ]
  },
  {
   "cell_type": "code",
   "execution_count": 636,
   "metadata": {
    "collapsed": false
   },
   "outputs": [
    {
     "data": {
      "text/plain": [
       "<matplotlib.text.Text at 0x140ec5110>"
      ]
     },
     "execution_count": 636,
     "metadata": {},
     "output_type": "execute_result"
    },
    {
     "data": {
      "image/png": "[encoded data removed]",
      "text/plain": [
       "<matplotlib.figure.Figure at 0x141377ed0>"
      ]
     },
     "metadata": {},
     "output_type": "display_data"
    }
   ],
   "source": [
    "plt.rcParams['figure.figsize'] = (10, 10)\n",
    "\n",
    "su = weather_2015_months_rain.plot(kind='bar',title='Cantidad de veces que llovio en cada mes del 2015',color='grey')\n",
    "\n",
    "plt.ylabel('Cantidad de dias que llovio')\n",
    "plt.xlabel('Mes')"
   ]
  },
  {
   "cell_type": "code",
   "execution_count": 637,
   "metadata": {
    "collapsed": false
   },
   "outputs": [
    {
     "data": {
      "text/html": [
       "<div>\n",
       "<table border=\"1\" class=\"dataframe\">\n",
       "  <thead>\n",
       "    <tr style=\"text-align: right;\">\n",
       "      <th></th>\n",
       "      <th>date</th>\n",
       "      <th>max_temperature_f</th>\n",
       "      <th>mean_temperature_f</th>\n",
       "      <th>min_temperature_f</th>\n",
       "      <th>max_dew_point_f</th>\n",
       "      <th>mean_dew_point_f</th>\n",
       "      <th>min_dew_point_f</th>\n",
       "      <th>max_humidity</th>\n",
       "      <th>mean_humidity</th>\n",
       "      <th>min_humidity</th>\n",
       "      <th>...</th>\n",
       "      <th>cloud_cover</th>\n",
       "      <th>events</th>\n",
       "      <th>wind_dir_degrees</th>\n",
       "      <th>zip_code</th>\n",
       "      <th>dates</th>\n",
       "      <th>anio</th>\n",
       "      <th>mes</th>\n",
       "      <th>dia</th>\n",
       "      <th>hora</th>\n",
       "      <th>minutos</th>\n",
       "    </tr>\n",
       "  </thead>\n",
       "  <tbody>\n",
       "    <tr>\n",
       "      <th>2020</th>\n",
       "      <td>2/28/2015</td>\n",
       "      <td>59.0</td>\n",
       "      <td>52.0</td>\n",
       "      <td>44.0</td>\n",
       "      <td>46.0</td>\n",
       "      <td>44.0</td>\n",
       "      <td>41.0</td>\n",
       "      <td>92.0</td>\n",
       "      <td>74.0</td>\n",
       "      <td>55.0</td>\n",
       "      <td>...</td>\n",
       "      <td>4.0</td>\n",
       "      <td>Rain-Thunderstorm</td>\n",
       "      <td>257.0</td>\n",
       "      <td>94107</td>\n",
       "      <td>2015-02-28</td>\n",
       "      <td>2015</td>\n",
       "      <td>2</td>\n",
       "      <td>28</td>\n",
       "      <td>0</td>\n",
       "      <td>0</td>\n",
       "    </tr>\n",
       "    <tr>\n",
       "      <th>2179</th>\n",
       "      <td>8/6/2015</td>\n",
       "      <td>72.0</td>\n",
       "      <td>65.0</td>\n",
       "      <td>58.0</td>\n",
       "      <td>58.0</td>\n",
       "      <td>57.0</td>\n",
       "      <td>54.0</td>\n",
       "      <td>93.0</td>\n",
       "      <td>77.0</td>\n",
       "      <td>61.0</td>\n",
       "      <td>...</td>\n",
       "      <td>5.0</td>\n",
       "      <td>Rain-Thunderstorm</td>\n",
       "      <td>309.0</td>\n",
       "      <td>94107</td>\n",
       "      <td>2015-08-06</td>\n",
       "      <td>2015</td>\n",
       "      <td>8</td>\n",
       "      <td>6</td>\n",
       "      <td>0</td>\n",
       "      <td>0</td>\n",
       "    </tr>\n",
       "  </tbody>\n",
       "</table>\n",
       "<p>2 rows × 30 columns</p>\n",
       "</div>"
      ],
      "text/plain": [
       "           date  max_temperature_f  mean_temperature_f  min_temperature_f  \\\n",
       "2020  2/28/2015               59.0                52.0               44.0   \n",
       "2179   8/6/2015               72.0                65.0               58.0   \n",
       "\n",
       "      max_dew_point_f  mean_dew_point_f  min_dew_point_f  max_humidity  \\\n",
       "2020             46.0              44.0             41.0          92.0   \n",
       "2179             58.0              57.0             54.0          93.0   \n",
       "\n",
       "      mean_humidity  min_humidity   ...    cloud_cover             events  \\\n",
       "2020           74.0          55.0   ...            4.0  Rain-Thunderstorm   \n",
       "2179           77.0          61.0   ...            5.0  Rain-Thunderstorm   \n",
       "\n",
       "      wind_dir_degrees  zip_code      dates  anio  mes  dia  hora minutos  \n",
       "2020             257.0     94107 2015-02-28  2015    2   28     0       0  \n",
       "2179             309.0     94107 2015-08-06  2015    8    6     0       0  \n",
       "\n",
       "[2 rows x 30 columns]"
      ]
     },
     "execution_count": 637,
     "metadata": {},
     "output_type": "execute_result"
    }
   ],
   "source": [
    "# Rain Thunderstorm - 2015\n",
    "\n",
    "weather_2015_rain_thunder = weather_2015[weather_2015['events'] == 'Rain-Thunderstorm']\n",
    "weather_2015_rain_thunder.shape # Hubo 2 dias de tormenta en todo el 2015\n",
    "weather_2015_rain_thunder.head() #Como son 2 no hace falta el head()"
   ]
  },
  {
   "cell_type": "code",
   "execution_count": 638,
   "metadata": {
    "collapsed": false
   },
   "outputs": [
    {
     "data": {
      "text/html": [
       "<div>\n",
       "<table border=\"1\" class=\"dataframe\">\n",
       "  <thead>\n",
       "    <tr style=\"text-align: right;\">\n",
       "      <th></th>\n",
       "      <th>date</th>\n",
       "      <th>max_temperature_f</th>\n",
       "      <th>mean_temperature_f</th>\n",
       "      <th>min_temperature_f</th>\n",
       "      <th>max_dew_point_f</th>\n",
       "      <th>mean_dew_point_f</th>\n",
       "      <th>min_dew_point_f</th>\n",
       "      <th>max_humidity</th>\n",
       "      <th>mean_humidity</th>\n",
       "      <th>min_humidity</th>\n",
       "      <th>...</th>\n",
       "      <th>cloud_cover</th>\n",
       "      <th>events</th>\n",
       "      <th>wind_dir_degrees</th>\n",
       "      <th>zip_code</th>\n",
       "      <th>dates</th>\n",
       "      <th>anio</th>\n",
       "      <th>mes</th>\n",
       "      <th>dia</th>\n",
       "      <th>hora</th>\n",
       "      <th>minutos</th>\n",
       "    </tr>\n",
       "  </thead>\n",
       "  <tbody>\n",
       "    <tr>\n",
       "      <th>1977</th>\n",
       "      <td>1/16/2015</td>\n",
       "      <td>57.0</td>\n",
       "      <td>50.0</td>\n",
       "      <td>43.0</td>\n",
       "      <td>52.0</td>\n",
       "      <td>48.0</td>\n",
       "      <td>43.0</td>\n",
       "      <td>96.0</td>\n",
       "      <td>84.0</td>\n",
       "      <td>72.0</td>\n",
       "      <td>...</td>\n",
       "      <td>6.0</td>\n",
       "      <td>Fog-Rain</td>\n",
       "      <td>349.0</td>\n",
       "      <td>94107</td>\n",
       "      <td>2015-01-16</td>\n",
       "      <td>2015</td>\n",
       "      <td>1</td>\n",
       "      <td>16</td>\n",
       "      <td>0</td>\n",
       "      <td>0</td>\n",
       "    </tr>\n",
       "    <tr>\n",
       "      <th>2122</th>\n",
       "      <td>6/10/2015</td>\n",
       "      <td>70.0</td>\n",
       "      <td>64.0</td>\n",
       "      <td>58.0</td>\n",
       "      <td>63.0</td>\n",
       "      <td>58.0</td>\n",
       "      <td>55.0</td>\n",
       "      <td>97.0</td>\n",
       "      <td>88.0</td>\n",
       "      <td>78.0</td>\n",
       "      <td>...</td>\n",
       "      <td>7.0</td>\n",
       "      <td>Fog-Rain</td>\n",
       "      <td>302.0</td>\n",
       "      <td>94107</td>\n",
       "      <td>2015-06-10</td>\n",
       "      <td>2015</td>\n",
       "      <td>6</td>\n",
       "      <td>10</td>\n",
       "      <td>0</td>\n",
       "      <td>0</td>\n",
       "    </tr>\n",
       "    <tr>\n",
       "      <th>3069</th>\n",
       "      <td>1/13/2015</td>\n",
       "      <td>64.0</td>\n",
       "      <td>53.0</td>\n",
       "      <td>41.0</td>\n",
       "      <td>48.0</td>\n",
       "      <td>42.0</td>\n",
       "      <td>37.0</td>\n",
       "      <td>100.0</td>\n",
       "      <td>70.0</td>\n",
       "      <td>39.0</td>\n",
       "      <td>...</td>\n",
       "      <td>1.0</td>\n",
       "      <td>Fog-Rain</td>\n",
       "      <td>9.0</td>\n",
       "      <td>94041</td>\n",
       "      <td>2015-01-13</td>\n",
       "      <td>2015</td>\n",
       "      <td>1</td>\n",
       "      <td>13</td>\n",
       "      <td>0</td>\n",
       "      <td>0</td>\n",
       "    </tr>\n",
       "  </tbody>\n",
       "</table>\n",
       "<p>3 rows × 30 columns</p>\n",
       "</div>"
      ],
      "text/plain": [
       "           date  max_temperature_f  mean_temperature_f  min_temperature_f  \\\n",
       "1977  1/16/2015               57.0                50.0               43.0   \n",
       "2122  6/10/2015               70.0                64.0               58.0   \n",
       "3069  1/13/2015               64.0                53.0               41.0   \n",
       "\n",
       "      max_dew_point_f  mean_dew_point_f  min_dew_point_f  max_humidity  \\\n",
       "1977             52.0              48.0             43.0          96.0   \n",
       "2122             63.0              58.0             55.0          97.0   \n",
       "3069             48.0              42.0             37.0         100.0   \n",
       "\n",
       "      mean_humidity  min_humidity   ...    cloud_cover    events  \\\n",
       "1977           84.0          72.0   ...            6.0  Fog-Rain   \n",
       "2122           88.0          78.0   ...            7.0  Fog-Rain   \n",
       "3069           70.0          39.0   ...            1.0  Fog-Rain   \n",
       "\n",
       "      wind_dir_degrees  zip_code      dates  anio  mes  dia  hora minutos  \n",
       "1977             349.0     94107 2015-01-16  2015    1   16     0       0  \n",
       "2122             302.0     94107 2015-06-10  2015    6   10     0       0  \n",
       "3069               9.0     94041 2015-01-13  2015    1   13     0       0  \n",
       "\n",
       "[3 rows x 30 columns]"
      ]
     },
     "execution_count": 638,
     "metadata": {},
     "output_type": "execute_result"
    }
   ],
   "source": [
    "# Fog Rain - 2015\n",
    "\n",
    "weather_2015_fog_rain = weather_2015[weather_2015['events'] == 'Fog-Rain']\n",
    "weather_2015_fog_rain.shape # Hubo 3 dias de fog - rain en todo el 2015\n",
    "weather_2015_fog_rain.head()"
   ]
  },
  {
   "cell_type": "code",
   "execution_count": 639,
   "metadata": {
    "collapsed": false
   },
   "outputs": [
    {
     "data": {
      "text/html": [
       "<div>\n",
       "<table border=\"1\" class=\"dataframe\">\n",
       "  <thead>\n",
       "    <tr style=\"text-align: right;\">\n",
       "      <th></th>\n",
       "      <th>date</th>\n",
       "      <th>max_temperature_f</th>\n",
       "      <th>mean_temperature_f</th>\n",
       "      <th>min_temperature_f</th>\n",
       "      <th>max_dew_point_f</th>\n",
       "      <th>mean_dew_point_f</th>\n",
       "      <th>min_dew_point_f</th>\n",
       "      <th>max_humidity</th>\n",
       "      <th>mean_humidity</th>\n",
       "      <th>min_humidity</th>\n",
       "      <th>...</th>\n",
       "      <th>cloud_cover</th>\n",
       "      <th>events</th>\n",
       "      <th>wind_dir_degrees</th>\n",
       "      <th>zip_code</th>\n",
       "      <th>dates</th>\n",
       "      <th>anio</th>\n",
       "      <th>mes</th>\n",
       "      <th>dia</th>\n",
       "      <th>hora</th>\n",
       "      <th>minutos</th>\n",
       "    </tr>\n",
       "  </thead>\n",
       "  <tbody>\n",
       "    <tr>\n",
       "      <th>1971</th>\n",
       "      <td>1/10/2015</td>\n",
       "      <td>60.0</td>\n",
       "      <td>54.0</td>\n",
       "      <td>47.0</td>\n",
       "      <td>52.0</td>\n",
       "      <td>49.0</td>\n",
       "      <td>45.0</td>\n",
       "      <td>93.0</td>\n",
       "      <td>83.0</td>\n",
       "      <td>72.0</td>\n",
       "      <td>...</td>\n",
       "      <td>6.0</td>\n",
       "      <td>Fog</td>\n",
       "      <td>280.0</td>\n",
       "      <td>94107</td>\n",
       "      <td>2015-01-10</td>\n",
       "      <td>2015</td>\n",
       "      <td>1</td>\n",
       "      <td>10</td>\n",
       "      <td>0</td>\n",
       "      <td>0</td>\n",
       "    </tr>\n",
       "    <tr>\n",
       "      <th>1972</th>\n",
       "      <td>1/11/2015</td>\n",
       "      <td>57.0</td>\n",
       "      <td>50.0</td>\n",
       "      <td>42.0</td>\n",
       "      <td>50.0</td>\n",
       "      <td>46.0</td>\n",
       "      <td>42.0</td>\n",
       "      <td>96.0</td>\n",
       "      <td>87.0</td>\n",
       "      <td>77.0</td>\n",
       "      <td>...</td>\n",
       "      <td>5.0</td>\n",
       "      <td>Fog</td>\n",
       "      <td>143.0</td>\n",
       "      <td>94107</td>\n",
       "      <td>2015-01-11</td>\n",
       "      <td>2015</td>\n",
       "      <td>1</td>\n",
       "      <td>11</td>\n",
       "      <td>0</td>\n",
       "      <td>0</td>\n",
       "    </tr>\n",
       "    <tr>\n",
       "      <th>1973</th>\n",
       "      <td>1/12/2015</td>\n",
       "      <td>57.0</td>\n",
       "      <td>49.0</td>\n",
       "      <td>41.0</td>\n",
       "      <td>50.0</td>\n",
       "      <td>46.0</td>\n",
       "      <td>41.0</td>\n",
       "      <td>96.0</td>\n",
       "      <td>87.0</td>\n",
       "      <td>77.0</td>\n",
       "      <td>...</td>\n",
       "      <td>3.0</td>\n",
       "      <td>Fog</td>\n",
       "      <td>246.0</td>\n",
       "      <td>94107</td>\n",
       "      <td>2015-01-12</td>\n",
       "      <td>2015</td>\n",
       "      <td>1</td>\n",
       "      <td>12</td>\n",
       "      <td>0</td>\n",
       "      <td>0</td>\n",
       "    </tr>\n",
       "    <tr>\n",
       "      <th>1974</th>\n",
       "      <td>1/13/2015</td>\n",
       "      <td>66.0</td>\n",
       "      <td>55.0</td>\n",
       "      <td>43.0</td>\n",
       "      <td>48.0</td>\n",
       "      <td>43.0</td>\n",
       "      <td>37.0</td>\n",
       "      <td>100.0</td>\n",
       "      <td>69.0</td>\n",
       "      <td>37.0</td>\n",
       "      <td>...</td>\n",
       "      <td>2.0</td>\n",
       "      <td>Fog</td>\n",
       "      <td>135.0</td>\n",
       "      <td>94107</td>\n",
       "      <td>2015-01-13</td>\n",
       "      <td>2015</td>\n",
       "      <td>1</td>\n",
       "      <td>13</td>\n",
       "      <td>0</td>\n",
       "      <td>0</td>\n",
       "    </tr>\n",
       "    <tr>\n",
       "      <th>1976</th>\n",
       "      <td>1/15/2015</td>\n",
       "      <td>59.0</td>\n",
       "      <td>50.0</td>\n",
       "      <td>40.0</td>\n",
       "      <td>49.0</td>\n",
       "      <td>45.0</td>\n",
       "      <td>39.0</td>\n",
       "      <td>100.0</td>\n",
       "      <td>84.0</td>\n",
       "      <td>67.0</td>\n",
       "      <td>...</td>\n",
       "      <td>5.0</td>\n",
       "      <td>Fog</td>\n",
       "      <td>287.0</td>\n",
       "      <td>94107</td>\n",
       "      <td>2015-01-15</td>\n",
       "      <td>2015</td>\n",
       "      <td>1</td>\n",
       "      <td>15</td>\n",
       "      <td>0</td>\n",
       "      <td>0</td>\n",
       "    </tr>\n",
       "  </tbody>\n",
       "</table>\n",
       "<p>5 rows × 30 columns</p>\n",
       "</div>"
      ],
      "text/plain": [
       "           date  max_temperature_f  mean_temperature_f  min_temperature_f  \\\n",
       "1971  1/10/2015               60.0                54.0               47.0   \n",
       "1972  1/11/2015               57.0                50.0               42.0   \n",
       "1973  1/12/2015               57.0                49.0               41.0   \n",
       "1974  1/13/2015               66.0                55.0               43.0   \n",
       "1976  1/15/2015               59.0                50.0               40.0   \n",
       "\n",
       "      max_dew_point_f  mean_dew_point_f  min_dew_point_f  max_humidity  \\\n",
       "1971             52.0              49.0             45.0          93.0   \n",
       "1972             50.0              46.0             42.0          96.0   \n",
       "1973             50.0              46.0             41.0          96.0   \n",
       "1974             48.0              43.0             37.0         100.0   \n",
       "1976             49.0              45.0             39.0         100.0   \n",
       "\n",
       "      mean_humidity  min_humidity   ...    cloud_cover  events  \\\n",
       "1971           83.0          72.0   ...            6.0     Fog   \n",
       "1972           87.0          77.0   ...            5.0     Fog   \n",
       "1973           87.0          77.0   ...            3.0     Fog   \n",
       "1974           69.0          37.0   ...            2.0     Fog   \n",
       "1976           84.0          67.0   ...            5.0     Fog   \n",
       "\n",
       "      wind_dir_degrees  zip_code      dates  anio  mes  dia  hora minutos  \n",
       "1971             280.0     94107 2015-01-10  2015    1   10     0       0  \n",
       "1972             143.0     94107 2015-01-11  2015    1   11     0       0  \n",
       "1973             246.0     94107 2015-01-12  2015    1   12     0       0  \n",
       "1974             135.0     94107 2015-01-13  2015    1   13     0       0  \n",
       "1976             287.0     94107 2015-01-15  2015    1   15     0       0  \n",
       "\n",
       "[5 rows x 30 columns]"
      ]
     },
     "execution_count": 639,
     "metadata": {},
     "output_type": "execute_result"
    }
   ],
   "source": [
    "# Fog - 2015\n",
    "\n",
    "weather_2015_fog = weather_2015[weather_2015['events'] == 'Fog']\n",
    "weather_2015_fog.shape # Hubo 34 dias de fog en todo el 2015\n",
    "weather_2015_fog.head()"
   ]
  },
  {
   "cell_type": "code",
   "execution_count": 640,
   "metadata": {
    "collapsed": false
   },
   "outputs": [
    {
     "data": {
      "text/plain": [
       "mes\n",
       "1    27\n",
       "2     4\n",
       "3     3\n",
       "Name: mes, dtype: int64"
      ]
     },
     "execution_count": 640,
     "metadata": {},
     "output_type": "execute_result"
    }
   ],
   "source": [
    "weather_2015_months_fog = weather_2015_fog.groupby(by='mes')['mes'].count()\n",
    "weather_2015_months_fog.head()"
   ]
  },
  {
   "cell_type": "code",
   "execution_count": 641,
   "metadata": {
    "collapsed": false
   },
   "outputs": [
    {
     "data": {
      "text/plain": [
       "<matplotlib.text.Text at 0x14167aa90>"
      ]
     },
     "execution_count": 641,
     "metadata": {},
     "output_type": "execute_result"
    },
    {
     "data": {
      "image/png": "[encoded data removed]",
      "text/plain": [
       "<matplotlib.figure.Figure at 0x13e197310>"
      ]
     },
     "metadata": {},
     "output_type": "display_data"
    }
   ],
   "source": [
    "plt.rcParams['figure.figsize'] = (10, 10)\n",
    "\n",
    "su = weather_2015_months_fog.plot(kind='bar',title='Cantidad de veces que hubo niebla en cada mes del 2015',color='grey')\n",
    "\n",
    "plt.ylabel('Cantidad de dias que hubo niebla')\n",
    "plt.xlabel('Mes')"
   ]
  },
  {
   "cell_type": "code",
   "execution_count": null,
   "metadata": {
    "collapsed": true
   },
   "outputs": [],
   "source": []
  }
 ],
 "metadata": {
  "kernelspec": {
   "display_name": "Python 2",
   "language": "python",
   "name": "python2"
  },
  "language_info": {
   "codemirror_mode": {
    "name": "ipython",
    "version": 2
   },
   "file_extension": ".py",
   "mimetype": "text/x-python",
   "name": "python",
   "nbconvert_exporter": "python",
   "pygments_lexer": "ipython2",
   "version": "2.7.12"
  }
 },
 "nbformat": 4,
 "nbformat_minor": 1
}
